{
 "cells": [
  {
   "cell_type": "code",
   "execution_count": null,
   "metadata": {
    "colab": {
     "base_uri": "https://localhost:8080/",
     "height": 68
    },
    "colab_type": "code",
    "executionInfo": {
     "elapsed": 4156,
     "status": "ok",
     "timestamp": 1564997145153,
     "user": {
      "displayName": "Elizaveta",
      "photoUrl": "https://lh3.googleusercontent.com/-3-3kSLC4Mzw/AAAAAAAAAAI/AAAAAAAAABg/Usb9K3n3cRI/s64/photo.jpg",
      "userId": "01253993997636551956"
     },
     "user_tz": -120
    },
    "id": "dGGAn8g1MNJz",
    "outputId": "7a350445-31e2-4fd2-dccb-78eeeb77cba0"
   },
   "outputs": [
    {
     "name": "stdout",
     "output_type": "stream",
     "text": [
      "[nltk_data] Downloading package punkt to /root/nltk_data...\n",
      "[nltk_data]   Unzipping tokenizers/punkt.zip.\n"
     ]
    },
    {
     "data": {
      "text/plain": [
       "True"
      ]
     },
     "execution_count": 1,
     "metadata": {
      "tags": []
     },
     "output_type": "execute_result"
    }
   ],
   "source": [
    "import pandas as pd\n",
    "import numpy as np\n",
    "\n",
    "from numpy.random import seed\n",
    "from tensorflow import set_random_seed\n",
    "import random as rn\n",
    "import os\n",
    "from nltk import tokenize \n",
    "import nltk\n",
    "nltk.download('punkt')"
   ]
  },
  {
   "cell_type": "code",
   "execution_count": null,
   "metadata": {
    "colab": {},
    "colab_type": "code",
    "id": "thHtHYR1Ya03"
   },
   "outputs": [],
   "source": [
    "#2. Get the file\n",
    "if os.name=='posix':\n",
    "    \n",
    "    # GOOGLE COLAB SETUP\n",
    "    # Load the Drive helper and mount\n",
    "    from google.colab import drive\n",
    "    # This will prompt for authorization.\n",
    "    drive.mount('/content/drive')\n",
    "    \n",
    "    data_path          = 'drive/My Drive/Colab Notebooks/adaptHAN/AOBDL_code/data'\n",
    "    codes_path         = 'drive/My Drive/Colab Notebooks/adaptHAN/AOBDL_code/AOBDL_DL'\n",
    "    cv_models_path     = 'drive/My Drive/Colab Notebooks/adaptHAN/AOBDL_code/cv_models'\n",
    "    models_path        = 'drive/My Drive/Colab Notebooks/adaptHAN/AOBDL_code/models'\n",
    "    \n",
    "else:\n",
    "    data_path          = '../data'\n",
    "    codes_path         = '../AOBDL_DL'\n",
    "    cv_models_path     = '../cv_models'\n",
    "    models_path        = '../models"
   ]
  },
  {
   "cell_type": "code",
   "execution_count": null,
   "metadata": {
    "colab": {},
    "colab_type": "code",
    "id": "bSSAJqm1Xlur"
   },
   "outputs": [],
   "source": [
    "import sys\n",
    "sys.path.append(f'{codes_path}')"
   ]
  },
  {
   "cell_type": "code",
   "execution_count": null,
   "metadata": {
    "colab": {
     "base_uri": "https://localhost:8080/",
     "height": 68
    },
    "colab_type": "code",
    "executionInfo": {
     "elapsed": 2212,
     "status": "ok",
     "timestamp": 1564997199016,
     "user": {
      "displayName": "Elizaveta",
      "photoUrl": "https://lh3.googleusercontent.com/-3-3kSLC4Mzw/AAAAAAAAAAI/AAAAAAAAABg/Usb9K3n3cRI/s64/photo.jpg",
      "userId": "01253993997636551956"
     },
     "user_tz": -120
    },
    "id": "VskajPUIYKAT",
    "outputId": "465873d3-39c9-4dd0-faad-07da40a38900"
   },
   "outputs": [
    {
     "name": "stdout",
     "output_type": "stream",
     "text": [
      "[nltk_data] Downloading package punkt to /root/nltk_data...\n",
      "[nltk_data]   Package punkt is already up-to-date!\n"
     ]
    },
    {
     "name": "stderr",
     "output_type": "stream",
     "text": [
      "Using TensorFlow backend.\n"
     ]
    }
   ],
   "source": [
    "import models"
   ]
  },
  {
   "cell_type": "code",
   "execution_count": null,
   "metadata": {
    "colab": {},
    "colab_type": "code",
    "id": "r8k2koT8ZQ5G"
   },
   "outputs": [],
   "source": [
    "#3. Read file as panda dataframe\n",
    "train           = pd.read_csv(f'{data_path}/train_cleaned_no_punkt.csv') \n",
    "test_labelled   = pd.read_csv(f'{data_path}/test_labelled_cleaned_no_punkt.csv') \n",
    "test_unlabelled = pd.read_csv(f'{data_path}/test_unlabelled_cleaned_no_punkt.csv') \n",
    "\n",
    "train['mal']    = train[['toxic', 'severe_toxic', 'obscene', 'threat', 'insult', 'identity_hate']].sum(axis=1) >= 1  \n",
    "train.drop(['toxic', 'severe_toxic', 'obscene', 'threat', 'insult', 'identity_hate'], axis=1, inplace=True)\n",
    "train.comment_text.fillna(\"empty\", inplace=True)\n",
    "\n",
    "test_labelled['mal'] = test_labelled[['toxic', 'severe_toxic', 'obscene', 'threat', 'insult', 'identity_hate']].sum(axis=1) >= 1  \n",
    "test_labelled.drop(['toxic', 'severe_toxic', 'obscene', 'threat', 'insult', 'identity_hate'], axis=1, inplace=True)\n",
    "test_labelled.comment_text.fillna(\"empty\", inplace=True)\n",
    "\n",
    "test_unlabelled.comment_text.fillna(\"empty\", inplace=True)\n",
    "\n",
    "# CHANGE TRAIN AND TEST, MIX TO GET SIMILAR DISTRIBUTION\n",
    "from sklearn.model_selection import train_test_split\n",
    "rs=42\n",
    "X_train1, X_test1, y_train1, y_test1  = train_test_split(train.drop('mal', axis=1), train.mal, stratify=train.mal, test_size=0.29, random_state=rs )\n",
    "X_train2, X_test2, y_train2, y_test2  = train_test_split(test_labelled.drop('mal', axis=1), test_labelled.mal, stratify=test_labelled.mal, test_size=0.29, random_state=rs)\n",
    "\n",
    "X = np.concatenate((X_train1.comment_text, X_train2.comment_text))\n",
    "y = np.concatenate((y_train1, y_train2))\n",
    "\n",
    "X_test = np.concatenate((X_test1.comment_text, X_test2.comment_text))\n",
    "y_test = np.concatenate((y_test1, y_test2))"
   ]
  },
  {
   "cell_type": "code",
   "execution_count": null,
   "metadata": {
    "colab": {},
    "colab_type": "code",
    "id": "ktG1o5q4MLFt"
   },
   "outputs": [],
   "source": [
    "max_features = 40000\n",
    "maxlen       = 400\n",
    "dropout_rate = 0.25\n",
    "rs           = 42\n",
    "epochs       = 4\n",
    "batch_size   = 256\n",
    "embed_dim    = 50\n",
    "rec_units    = 150\n",
    "\n",
    "\n",
    "max_sen_len    = 100\n",
    "max_sent_amount = 4\n",
    "\n",
    "seed(rs)\n",
    "set_random_seed(rs)\n",
    "rn.seed(rs)\n",
    "\n",
    "os.environ['PYTHONHASHSEED']=str(rs)"
   ]
  },
  {
   "cell_type": "markdown",
   "metadata": {
    "colab_type": "text",
    "id": "UDEPtPHKGzAV"
   },
   "source": [
    "# LSTM"
   ]
  },
  {
   "cell_type": "code",
   "execution_count": null,
   "metadata": {
    "colab": {
     "base_uri": "https://localhost:8080/",
     "height": 901
    },
    "colab_type": "code",
    "executionInfo": {
     "elapsed": 99529,
     "status": "ok",
     "timestamp": 1564997303546,
     "user": {
      "displayName": "Elizaveta",
      "photoUrl": "https://lh3.googleusercontent.com/-3-3kSLC4Mzw/AAAAAAAAAAI/AAAAAAAAABg/Usb9K3n3cRI/s64/photo.jpg",
      "userId": "01253993997636551956"
     },
     "user_tz": -120
    },
    "id": "NBEzSCXAMZRj",
    "outputId": "43888919-684f-4199-f628-d2c823e51913"
   },
   "outputs": [
    {
     "name": "stdout",
     "output_type": "stream",
     "text": [
      " fold 0\n"
     ]
    },
    {
     "name": "stderr",
     "output_type": "stream",
     "text": [
      "WARNING: Logging before flag parsing goes to stderr.\n",
      "W0805 09:26:59.159408 140230199809920 deprecation_wrapper.py:119] From /usr/local/lib/python3.6/dist-packages/keras/backend/tensorflow_backend.py:74: The name tf.get_default_graph is deprecated. Please use tf.compat.v1.get_default_graph instead.\n",
      "\n",
      "W0805 09:26:59.161224 140230199809920 deprecation_wrapper.py:119] From /usr/local/lib/python3.6/dist-packages/keras/backend/tensorflow_backend.py:517: The name tf.placeholder is deprecated. Please use tf.compat.v1.placeholder instead.\n",
      "\n",
      "W0805 09:26:59.173749 140230199809920 deprecation_wrapper.py:119] From /usr/local/lib/python3.6/dist-packages/keras/backend/tensorflow_backend.py:4138: The name tf.random_uniform is deprecated. Please use tf.random.uniform instead.\n",
      "\n",
      "W0805 09:26:59.193707 140230199809920 deprecation_wrapper.py:119] From /usr/local/lib/python3.6/dist-packages/keras/backend/tensorflow_backend.py:133: The name tf.placeholder_with_default is deprecated. Please use tf.compat.v1.placeholder_with_default instead.\n",
      "\n",
      "W0805 09:26:59.202605 140230199809920 deprecation.py:506] From /usr/local/lib/python3.6/dist-packages/keras/backend/tensorflow_backend.py:3445: calling dropout (from tensorflow.python.ops.nn_ops) with keep_prob is deprecated and will be removed in a future version.\n",
      "Instructions for updating:\n",
      "Please use `rate` instead of `keep_prob`. Rate should be set to `rate = 1 - keep_prob`.\n",
      "W0805 09:27:00.949302 140230199809920 deprecation_wrapper.py:119] From /usr/local/lib/python3.6/dist-packages/keras/optimizers.py:790: The name tf.train.Optimizer is deprecated. Please use tf.compat.v1.train.Optimizer instead.\n",
      "\n",
      "W0805 09:27:00.958289 140230199809920 deprecation_wrapper.py:119] From /usr/local/lib/python3.6/dist-packages/keras/backend/tensorflow_backend.py:3376: The name tf.log is deprecated. Please use tf.math.log instead.\n",
      "\n",
      "W0805 09:27:00.966713 140230199809920 deprecation.py:323] From /usr/local/lib/python3.6/dist-packages/tensorflow/python/ops/nn_impl.py:180: add_dispatch_support.<locals>.wrapper (from tensorflow.python.ops.array_ops) is deprecated and will be removed in a future version.\n",
      "Instructions for updating:\n",
      "Use tf.where in 2.0, which has the same broadcast rule as np.where\n"
     ]
    },
    {
     "name": "stdout",
     "output_type": "stream",
     "text": [
      "Fitting\n",
      "31745/31745 [==============================] - 6s 183us/step\n",
      " 0.3 fold 0 precision 0.852 recall 0.754 fscore 0.8\n",
      "fold 0 average precision 0.886\n",
      "fold 0 roc auc 0.976\n",
      " fold 1\n",
      "Fitting\n",
      "31745/31745 [==============================] - 2s 78us/step\n",
      " 0.3 fold 1 precision 0.883 recall 0.731 fscore 0.8\n",
      "fold 1 average precision 0.884\n",
      "fold 1 roc auc 0.973\n",
      " fold 2\n",
      "Fitting\n",
      "31743/31743 [==============================] - 2s 77us/step\n",
      " 0.3 fold 2 precision 0.846 recall 0.784 fscore 0.814\n",
      "fold 2 average precision 0.888\n",
      "fold 2 roc auc 0.973\n",
      " fold 3\n",
      "Fitting\n",
      "31743/31743 [==============================] - 2s 77us/step\n",
      " 0.3 fold 3 precision 0.625 recall 0.845 fscore 0.719\n",
      "fold 3 average precision 0.835\n",
      "fold 3 roc auc 0.97\n",
      " fold 4\n",
      "Fitting\n",
      "31743/31743 [==============================] - 2s 78us/step\n",
      " 0.3 fold 4 precision 0.562 recall 0.89 fscore 0.689\n",
      "fold 4 average precision 0.806\n",
      "fold 4 roc auc 0.97\n",
      "PR-C 0.86\n",
      "ROC AUC 0.972\n",
      "FScore 0.764\n"
     ]
    }
   ],
   "source": [
    "models.train_model(X=X, y=y, mtype = 'LSTM', cv=True, nfolds=5, epochs=4, cv_models_path=cv_models_path, train=False, rs=rs)"
   ]
  },
  {
   "cell_type": "code",
   "execution_count": null,
   "metadata": {
    "colab": {
     "base_uri": "https://localhost:8080/",
     "height": 238
    },
    "colab_type": "code",
    "executionInfo": {
     "elapsed": 126224,
     "status": "ok",
     "timestamp": 1564997330485,
     "user": {
      "displayName": "Elizaveta",
      "photoUrl": "https://lh3.googleusercontent.com/-3-3kSLC4Mzw/AAAAAAAAAAI/AAAAAAAAABg/Usb9K3n3cRI/s64/photo.jpg",
      "userId": "01253993997636551956"
     },
     "user_tz": -120
    },
    "id": "hRAFx8KFSbPv",
    "outputId": "9616fb21-a0a6-4076-d544-c79d4bb022e3"
   },
   "outputs": [
    {
     "name": "stdout",
     "output_type": "stream",
     "text": [
      "Fitting\n",
      "64830/64830 [==============================] - 5s 76us/step\n",
      "_________________________________\n",
      "PR-C is 0.855\n",
      "_________________________________\n",
      "\n",
      "_________________________________\n",
      "ROC AUC is 0.972\n",
      "_________________________________\n",
      "_________________________________\n",
      "FScore is 0.767\n",
      "_________________________________\n",
      "\n"
     ]
    }
   ],
   "source": [
    "models.train_model(X=X, y=y, X_test=X_test, y_test=y_test, mtype = 'LSTM', cv=False, nfolds=5, epochs=4, cv_models_path=models_path, train=False, rs=rs)"
   ]
  },
  {
   "cell_type": "markdown",
   "metadata": {
    "colab_type": "text",
    "id": "JkFgYVeMG59p"
   },
   "source": [
    "# GRU"
   ]
  },
  {
   "cell_type": "code",
   "execution_count": null,
   "metadata": {
    "colab": {
     "base_uri": "https://localhost:8080/",
     "height": 578
    },
    "colab_type": "code",
    "executionInfo": {
     "elapsed": 212520,
     "status": "ok",
     "timestamp": 1564997419166,
     "user": {
      "displayName": "Elizaveta",
      "photoUrl": "https://lh3.googleusercontent.com/-3-3kSLC4Mzw/AAAAAAAAAAI/AAAAAAAAABg/Usb9K3n3cRI/s64/photo.jpg",
      "userId": "01253993997636551956"
     },
     "user_tz": -120
    },
    "id": "knnoxqgr_bXw",
    "outputId": "a252b8f8-38af-42f1-8cba-1ac56da455f0"
   },
   "outputs": [
    {
     "name": "stdout",
     "output_type": "stream",
     "text": [
      " fold 0\n",
      "Fitting\n",
      "31745/31745 [==============================] - 2s 73us/step\n",
      " 0.3 fold 0 precision 0.838 recall 0.772 fscore 0.804\n",
      "fold 0 average precision 0.887\n",
      "fold 0 roc auc 0.975\n",
      " fold 1\n",
      "Fitting\n",
      "31745/31745 [==============================] - 2s 72us/step\n",
      " 0.3 fold 1 precision 0.894 recall 0.714 fscore 0.794\n",
      "fold 1 average precision 0.887\n",
      "fold 1 roc auc 0.973\n",
      " fold 2\n",
      "Fitting\n",
      "31743/31743 [==============================] - 2s 72us/step\n",
      " 0.3 fold 2 precision 0.884 recall 0.75 fscore 0.812\n",
      "fold 2 average precision 0.894\n",
      "fold 2 roc auc 0.977\n",
      " fold 3\n",
      "Fitting\n",
      "31743/31743 [==============================] - 2s 72us/step\n",
      " 0.3 fold 3 precision 0.627 recall 0.855 fscore 0.724\n",
      "fold 3 average precision 0.834\n",
      "fold 3 roc auc 0.971\n",
      " fold 4\n",
      "Fitting\n",
      "31743/31743 [==============================] - 2s 72us/step\n",
      " 0.3 fold 4 precision 0.52 recall 0.921 fscore 0.665\n",
      "fold 4 average precision 0.799\n",
      "fold 4 roc auc 0.97\n",
      "PR-C 0.86\n",
      "ROC AUC 0.973\n",
      "FScore 0.76\n"
     ]
    }
   ],
   "source": [
    "models.train_model(X=X, y=y, mtype = 'GRU', cv=True, nfolds=5, epochs=4, cv_models_path=cv_models_path, train=False, rs=rs)"
   ]
  },
  {
   "cell_type": "code",
   "execution_count": null,
   "metadata": {
    "colab": {
     "base_uri": "https://localhost:8080/",
     "height": 238
    },
    "colab_type": "code",
    "executionInfo": {
     "elapsed": 236851,
     "status": "ok",
     "timestamp": 1564997443729,
     "user": {
      "displayName": "Elizaveta",
      "photoUrl": "https://lh3.googleusercontent.com/-3-3kSLC4Mzw/AAAAAAAAAAI/AAAAAAAAABg/Usb9K3n3cRI/s64/photo.jpg",
      "userId": "01253993997636551956"
     },
     "user_tz": -120
    },
    "id": "Z4dNCKqsHFbG",
    "outputId": "735c5c16-a614-4a31-b743-29eadbe44de0"
   },
   "outputs": [
    {
     "name": "stdout",
     "output_type": "stream",
     "text": [
      "Fitting\n",
      "64830/64830 [==============================] - 5s 70us/step\n",
      "_________________________________\n",
      "PR-C is 0.859\n",
      "_________________________________\n",
      "\n",
      "_________________________________\n",
      "ROC AUC is 0.973\n",
      "_________________________________\n",
      "_________________________________\n",
      "FScore is 0.768\n",
      "_________________________________\n",
      "\n"
     ]
    }
   ],
   "source": [
    "models.train_model(X=X, y=y, X_test=X_test, y_test=y_test, mtype = 'GRU', cv=False, nfolds=5, epochs=4, cv_models_path=models_path, train=False, rs=rs)"
   ]
  },
  {
   "cell_type": "markdown",
   "metadata": {
    "colab_type": "text",
    "id": "1GohFN0YHHZ5"
   },
   "source": [
    "# CNN"
   ]
  },
  {
   "cell_type": "code",
   "execution_count": null,
   "metadata": {
    "colab": {
     "base_uri": "https://localhost:8080/",
     "height": 578
    },
    "colab_type": "code",
    "executionInfo": {
     "elapsed": 316825,
     "status": "ok",
     "timestamp": 1564997524162,
     "user": {
      "displayName": "Elizaveta",
      "photoUrl": "https://lh3.googleusercontent.com/-3-3kSLC4Mzw/AAAAAAAAAAI/AAAAAAAAABg/Usb9K3n3cRI/s64/photo.jpg",
      "userId": "01253993997636551956"
     },
     "user_tz": -120
    },
    "id": "One2JAkkHIHB",
    "outputId": "5d4716b0-68c5-4d43-805a-d60b8ba05f24"
   },
   "outputs": [
    {
     "name": "stdout",
     "output_type": "stream",
     "text": [
      " fold 0\n",
      "Fitting\n",
      "31745/31745 [==============================] - 1s 44us/step\n",
      " 0.3 fold 0 precision 0.892 recall 0.698 fscore 0.783\n",
      "fold 0 average precision 0.882\n",
      "fold 0 roc auc 0.975\n",
      " fold 1\n",
      "Fitting\n",
      "31745/31745 [==============================] - 1s 39us/step\n",
      " 0.3 fold 1 precision 0.834 recall 0.765 fscore 0.798\n",
      "fold 1 average precision 0.881\n",
      "fold 1 roc auc 0.974\n",
      " fold 2\n",
      "Fitting\n",
      "31743/31743 [==============================] - 1s 42us/step\n",
      " 0.3 fold 2 precision 0.866 recall 0.741 fscore 0.799\n",
      "fold 2 average precision 0.882\n",
      "fold 2 roc auc 0.974\n",
      " fold 3\n",
      "Fitting\n",
      "31743/31743 [==============================] - 1s 40us/step\n",
      " 0.3 fold 3 precision 0.625 recall 0.863 fscore 0.725\n",
      "fold 3 average precision 0.829\n",
      "fold 3 roc auc 0.97\n",
      " fold 4\n",
      "Fitting\n",
      "31743/31743 [==============================] - 1s 40us/step\n",
      " 0.3 fold 4 precision 0.49 recall 0.926 fscore 0.641\n",
      "fold 4 average precision 0.787\n",
      "fold 4 roc auc 0.967\n",
      "PR-C 0.852\n",
      "ROC AUC 0.972\n",
      "FScore 0.749\n"
     ]
    }
   ],
   "source": [
    "models.train_model(X=X, y=y, mtype = 'CNN', cv=True, nfolds=5, epochs=4, cv_models_path=cv_models_path, train=False, rs=rs)"
   ]
  },
  {
   "cell_type": "code",
   "execution_count": null,
   "metadata": {
    "colab": {
     "base_uri": "https://localhost:8080/",
     "height": 238
    },
    "colab_type": "code",
    "executionInfo": {
     "elapsed": 338130,
     "status": "ok",
     "timestamp": 1564997545832,
     "user": {
      "displayName": "Elizaveta",
      "photoUrl": "https://lh3.googleusercontent.com/-3-3kSLC4Mzw/AAAAAAAAAAI/AAAAAAAAABg/Usb9K3n3cRI/s64/photo.jpg",
      "userId": "01253993997636551956"
     },
     "user_tz": -120
    },
    "id": "rYwGO46KHMkL",
    "outputId": "80740f43-da5c-46b9-ea4c-d3d5fca83eee"
   },
   "outputs": [
    {
     "name": "stdout",
     "output_type": "stream",
     "text": [
      "Fitting\n",
      "64830/64830 [==============================] - 3s 39us/step\n",
      "_________________________________\n",
      "PR-C is 0.85\n",
      "_________________________________\n",
      "\n",
      "_________________________________\n",
      "ROC AUC is 0.971\n",
      "_________________________________\n",
      "_________________________________\n",
      "FScore is 0.762\n",
      "_________________________________\n",
      "\n"
     ]
    }
   ],
   "source": [
    "models.train_model(X=X, y=y, X_test=X_test, y_test=y_test, mtype = 'CNN', cv=False, nfolds=5, epochs=4, cv_models_path=models_path, train=False, rs=rs)"
   ]
  },
  {
   "cell_type": "markdown",
   "metadata": {
    "colab_type": "text",
    "id": "kMQlTA1wHbKH"
   },
   "source": [
    "# BGRU"
   ]
  },
  {
   "cell_type": "code",
   "execution_count": null,
   "metadata": {
    "colab": {
     "base_uri": "https://localhost:8080/",
     "height": 578
    },
    "colab_type": "code",
    "executionInfo": {
     "elapsed": 434221,
     "status": "ok",
     "timestamp": 1564997642727,
     "user": {
      "displayName": "Elizaveta",
      "photoUrl": "https://lh3.googleusercontent.com/-3-3kSLC4Mzw/AAAAAAAAAAI/AAAAAAAAABg/Usb9K3n3cRI/s64/photo.jpg",
      "userId": "01253993997636551956"
     },
     "user_tz": -120
    },
    "id": "itzm2_vYH6H7",
    "outputId": "76e44f80-8665-400a-e16b-1729e4232fbf"
   },
   "outputs": [
    {
     "name": "stdout",
     "output_type": "stream",
     "text": [
      " fold 0\n",
      "Fitting\n",
      "31745/31745 [==============================] - 4s 139us/step\n",
      " 0.3 fold 0 precision 0.817 recall 0.793 fscore 0.805\n",
      "fold 0 average precision 0.89\n",
      "fold 0 roc auc 0.977\n",
      " fold 1\n",
      "Fitting\n",
      "31745/31745 [==============================] - 4s 138us/step\n",
      " 0.3 fold 1 precision 0.821 recall 0.789 fscore 0.805\n",
      "fold 1 average precision 0.887\n",
      "fold 1 roc auc 0.975\n",
      " fold 2\n",
      "Fitting\n",
      "31743/31743 [==============================] - 4s 137us/step\n",
      " 0.3 fold 2 precision 0.875 recall 0.759 fscore 0.813\n",
      "fold 2 average precision 0.892\n",
      "fold 2 roc auc 0.974\n",
      " fold 3\n",
      "Fitting\n",
      "31743/31743 [==============================] - 4s 137us/step\n",
      " 0.3 fold 3 precision 0.66 recall 0.834 fscore 0.737\n",
      "fold 3 average precision 0.833\n",
      "fold 3 roc auc 0.97\n",
      " fold 4\n",
      "Fitting\n",
      "31743/31743 [==============================] - 4s 137us/step\n",
      " 0.3 fold 4 precision 0.574 recall 0.881 fscore 0.695\n",
      "fold 4 average precision 0.805\n",
      "fold 4 roc auc 0.971\n",
      "PR-C 0.861\n",
      "ROC AUC 0.973\n",
      "FScore 0.771\n"
     ]
    }
   ],
   "source": [
    "models.train_model(X=X, y=y, mtype = 'BGRU', cv=True, nfolds=5, epochs=4, cv_models_path=cv_models_path, train=False, rs=rs)"
   ]
  },
  {
   "cell_type": "code",
   "execution_count": null,
   "metadata": {
    "colab": {
     "base_uri": "https://localhost:8080/",
     "height": 238
    },
    "colab_type": "code",
    "executionInfo": {
     "elapsed": 462303,
     "status": "ok",
     "timestamp": 1564997671280,
     "user": {
      "displayName": "Elizaveta",
      "photoUrl": "https://lh3.googleusercontent.com/-3-3kSLC4Mzw/AAAAAAAAAAI/AAAAAAAAABg/Usb9K3n3cRI/s64/photo.jpg",
      "userId": "01253993997636551956"
     },
     "user_tz": -120
    },
    "id": "OXdC7EW2H8us",
    "outputId": "d334b721-f35c-48d8-c6c9-54c35b2c26ed"
   },
   "outputs": [
    {
     "name": "stdout",
     "output_type": "stream",
     "text": [
      "Fitting\n",
      "64830/64830 [==============================] - 9s 135us/step\n",
      "_________________________________\n",
      "PR-C is 0.86\n",
      "_________________________________\n",
      "\n",
      "_________________________________\n",
      "ROC AUC is 0.973\n",
      "_________________________________\n",
      "_________________________________\n",
      "FScore is 0.758\n",
      "_________________________________\n",
      "\n"
     ]
    }
   ],
   "source": [
    "models.train_model(X=X, y=y, X_test=X_test, y_test=y_test, mtype = 'BGRU', cv=False, nfolds=5, epochs=4, cv_models_path=models_path, train=False, rs=rs)"
   ]
  },
  {
   "cell_type": "markdown",
   "metadata": {
    "colab_type": "text",
    "id": "q1flid6eHcn-"
   },
   "source": [
    "# BLSTM"
   ]
  },
  {
   "cell_type": "code",
   "execution_count": null,
   "metadata": {
    "colab": {
     "base_uri": "https://localhost:8080/",
     "height": 578
    },
    "colab_type": "code",
    "executionInfo": {
     "elapsed": 560837,
     "status": "ok",
     "timestamp": 1564997770611,
     "user": {
      "displayName": "Elizaveta",
      "photoUrl": "https://lh3.googleusercontent.com/-3-3kSLC4Mzw/AAAAAAAAAAI/AAAAAAAAABg/Usb9K3n3cRI/s64/photo.jpg",
      "userId": "01253993997636551956"
     },
     "user_tz": -120
    },
    "id": "CY2rr_6qH_tD",
    "outputId": "f2494a38-926c-4a0d-a2da-4bdfc912b454"
   },
   "outputs": [
    {
     "name": "stdout",
     "output_type": "stream",
     "text": [
      " fold 0\n",
      "Fitting\n",
      "31745/31745 [==============================] - 5s 149us/step\n",
      " 0.3 fold 0 precision 0.877 recall 0.73 fscore 0.797\n",
      "fold 0 average precision 0.882\n",
      "fold 0 roc auc 0.971\n",
      " fold 1\n",
      "Fitting\n",
      "31745/31745 [==============================] - 5s 149us/step\n",
      " 0.3 fold 1 precision 0.922 recall 0.617 fscore 0.739\n",
      "fold 1 average precision 0.845\n",
      "fold 1 roc auc 0.956\n",
      " fold 2\n",
      "Fitting\n",
      "31743/31743 [==============================] - 5s 149us/step\n",
      " 0.3 fold 2 precision 0.796 recall 0.811 fscore 0.804\n",
      "fold 2 average precision 0.889\n",
      "fold 2 roc auc 0.974\n",
      " fold 3\n",
      "Fitting\n",
      "31743/31743 [==============================] - 5s 150us/step\n",
      " 0.3 fold 3 precision 0.67 recall 0.827 fscore 0.74\n",
      "fold 3 average precision 0.836\n",
      "fold 3 roc auc 0.969\n",
      " fold 4\n",
      "Fitting\n",
      "31743/31743 [==============================] - 5s 149us/step\n",
      " 0.3 fold 4 precision 0.524 recall 0.912 fscore 0.665\n",
      "fold 4 average precision 0.795\n",
      "fold 4 roc auc 0.969\n",
      "PR-C 0.85\n",
      "ROC AUC 0.968\n",
      "FScore 0.749\n"
     ]
    }
   ],
   "source": [
    "models.train_model(X=X, y=y, mtype = 'BLSTM', cv=True, nfolds=5, epochs=4, cv_models_path=cv_models_path, train=False, rs=rs)"
   ]
  },
  {
   "cell_type": "code",
   "execution_count": null,
   "metadata": {
    "colab": {
     "base_uri": "https://localhost:8080/",
     "height": 238
    },
    "colab_type": "code",
    "executionInfo": {
     "elapsed": 590073,
     "status": "ok",
     "timestamp": 1564997800263,
     "user": {
      "displayName": "Elizaveta",
      "photoUrl": "https://lh3.googleusercontent.com/-3-3kSLC4Mzw/AAAAAAAAAAI/AAAAAAAAABg/Usb9K3n3cRI/s64/photo.jpg",
      "userId": "01253993997636551956"
     },
     "user_tz": -120
    },
    "id": "BPi4Ixc0IDQ5",
    "outputId": "8a3b2966-c8e7-4ae9-9178-bf8c0464ddb9"
   },
   "outputs": [
    {
     "name": "stdout",
     "output_type": "stream",
     "text": [
      "Fitting\n",
      "64830/64830 [==============================] - 10s 147us/step\n",
      "_________________________________\n",
      "PR-C is 0.852\n",
      "_________________________________\n",
      "\n",
      "_________________________________\n",
      "ROC AUC is 0.971\n",
      "_________________________________\n",
      "_________________________________\n",
      "FScore is 0.748\n",
      "_________________________________\n",
      "\n"
     ]
    }
   ],
   "source": [
    "models.train_model(X=X, y=y, X_test=X_test, y_test=y_test, mtype = 'BLSTM', cv=False, nfolds=5, epochs=4, cv_models_path=models_path, train=False, rs=rs)"
   ]
  },
  {
   "cell_type": "markdown",
   "metadata": {
    "colab_type": "text",
    "id": "6TodHWe-HksD"
   },
   "source": [
    "# BGRU + Max Pooling"
   ]
  },
  {
   "cell_type": "code",
   "execution_count": null,
   "metadata": {
    "colab": {
     "base_uri": "https://localhost:8080/",
     "height": 578
    },
    "colab_type": "code",
    "executionInfo": {
     "elapsed": 686598,
     "status": "ok",
     "timestamp": 1564997900144,
     "user": {
      "displayName": "Elizaveta",
      "photoUrl": "https://lh3.googleusercontent.com/-3-3kSLC4Mzw/AAAAAAAAAAI/AAAAAAAAABg/Usb9K3n3cRI/s64/photo.jpg",
      "userId": "01253993997636551956"
     },
     "user_tz": -120
    },
    "id": "cOsLIWmnIJP7",
    "outputId": "37158ed1-6666-433b-e233-10415b7bcceb"
   },
   "outputs": [
    {
     "name": "stdout",
     "output_type": "stream",
     "text": [
      " fold 0\n",
      "Fitting\n",
      "31745/31745 [==============================] - 5s 158us/step\n",
      " 0.3 fold 0 precision 0.859 recall 0.739 fscore 0.794\n",
      "fold 0 average precision 0.887\n",
      "fold 0 roc auc 0.976\n",
      " fold 1\n",
      "Fitting\n",
      "31745/31745 [==============================] - 5s 156us/step\n",
      " 0.3 fold 1 precision 0.846 recall 0.757 fscore 0.799\n",
      "fold 1 average precision 0.883\n",
      "fold 1 roc auc 0.973\n",
      " fold 2\n",
      "Fitting\n",
      "31743/31743 [==============================] - 5s 157us/step\n",
      " 0.3 fold 2 precision 0.796 recall 0.808 fscore 0.802\n",
      "fold 2 average precision 0.889\n",
      "fold 2 roc auc 0.975\n",
      " fold 3\n",
      "Fitting\n",
      "31743/31743 [==============================] - 5s 157us/step\n",
      " 0.3 fold 3 precision 0.611 recall 0.86 fscore 0.714\n",
      "fold 3 average precision 0.834\n",
      "fold 3 roc auc 0.969\n",
      " fold 4\n",
      "Fitting\n",
      "31743/31743 [==============================] - 5s 157us/step\n",
      " 0.3 fold 4 precision 0.513 recall 0.919 fscore 0.658\n",
      "fold 4 average precision 0.803\n",
      "fold 4 roc auc 0.97\n",
      "PR-C 0.859\n",
      "ROC AUC 0.973\n",
      "FScore 0.754\n"
     ]
    }
   ],
   "source": [
    "models.train_model(X=X, y=y, mtype = 'BGRU_max', cv=True, nfolds=5, epochs=4, cv_models_path=cv_models_path, train=False, rs=rs)"
   ]
  },
  {
   "cell_type": "code",
   "execution_count": null,
   "metadata": {
    "colab": {
     "base_uri": "https://localhost:8080/",
     "height": 238
    },
    "colab_type": "code",
    "executionInfo": {
     "elapsed": 714546,
     "status": "ok",
     "timestamp": 1564997929378,
     "user": {
      "displayName": "Elizaveta",
      "photoUrl": "https://lh3.googleusercontent.com/-3-3kSLC4Mzw/AAAAAAAAAAI/AAAAAAAAABg/Usb9K3n3cRI/s64/photo.jpg",
      "userId": "01253993997636551956"
     },
     "user_tz": -120
    },
    "id": "Wf_Xe6H8IPK8",
    "outputId": "a22ac11f-217d-4223-d09f-4fee2d132d3a"
   },
   "outputs": [
    {
     "name": "stdout",
     "output_type": "stream",
     "text": [
      "Fitting\n",
      "64830/64830 [==============================] - 10s 154us/step\n",
      "_________________________________\n",
      "PR-C is 0.857\n",
      "_________________________________\n",
      "\n",
      "_________________________________\n",
      "ROC AUC is 0.972\n",
      "_________________________________\n",
      "_________________________________\n",
      "FScore is 0.764\n",
      "_________________________________\n",
      "\n"
     ]
    }
   ],
   "source": [
    "models.train_model(X=X, y=y, X_test=X_test, y_test=y_test, mtype = 'BGRU_max', cv=False, nfolds=5, epochs=4, cv_models_path=models_path, train=False, rs=rs)"
   ]
  },
  {
   "cell_type": "markdown",
   "metadata": {
    "colab_type": "text",
    "id": "T6MVCZhDHe9w"
   },
   "source": [
    "# BGRU + attention"
   ]
  },
  {
   "cell_type": "code",
   "execution_count": null,
   "metadata": {
    "colab": {
     "base_uri": "https://localhost:8080/",
     "height": 578
    },
    "colab_type": "code",
    "executionInfo": {
     "elapsed": 819962,
     "status": "ok",
     "timestamp": 1564998035522,
     "user": {
      "displayName": "Elizaveta",
      "photoUrl": "https://lh3.googleusercontent.com/-3-3kSLC4Mzw/AAAAAAAAAAI/AAAAAAAAABg/Usb9K3n3cRI/s64/photo.jpg",
      "userId": "01253993997636551956"
     },
     "user_tz": -120
    },
    "id": "keTXcKcDJVnU",
    "outputId": "a07192b2-01e9-4b47-c1ec-3cf75b43de58"
   },
   "outputs": [
    {
     "name": "stdout",
     "output_type": "stream",
     "text": [
      " fold 0\n",
      "Fitting\n",
      "31745/31745 [==============================] - 6s 197us/step\n",
      " 0.3 fold 0 precision 0.852 recall 0.763 fscore 0.805\n",
      "fold 0 average precision 0.887\n",
      "fold 0 roc auc 0.972\n",
      " fold 1\n",
      "Fitting\n",
      "31745/31745 [==============================] - 6s 197us/step\n",
      " 0.3 fold 1 precision 0.9 recall 0.699 fscore 0.787\n",
      "fold 1 average precision 0.878\n",
      "fold 1 roc auc 0.969\n",
      " fold 2\n",
      "Fitting\n",
      "31743/31743 [==============================] - 6s 195us/step\n",
      " 0.3 fold 2 precision 0.866 recall 0.725 fscore 0.789\n",
      "fold 2 average precision 0.877\n",
      "fold 2 roc auc 0.971\n",
      " fold 3\n",
      "Fitting\n",
      "31743/31743 [==============================] - 6s 196us/step\n",
      " 0.3 fold 3 precision 0.617 recall 0.858 fscore 0.718\n",
      "fold 3 average precision 0.822\n",
      "fold 3 roc auc 0.968\n",
      " fold 4\n",
      "Fitting\n",
      "31743/31743 [==============================] - 6s 196us/step\n",
      " 0.3 fold 4 precision 0.567 recall 0.88 fscore 0.689\n",
      "fold 4 average precision 0.792\n",
      "fold 4 roc auc 0.968\n",
      "PR-C 0.851\n",
      "ROC AUC 0.97\n",
      "FScore 0.758\n"
     ]
    }
   ],
   "source": [
    "models.train_model(X=X, y=y, mtype = 'BGRU_att', cv=True, nfolds=5, epochs=4, cv_models_path=cv_models_path, train=False, rs=rs)"
   ]
  },
  {
   "cell_type": "code",
   "execution_count": null,
   "metadata": {
    "colab": {
     "base_uri": "https://localhost:8080/",
     "height": 238
    },
    "colab_type": "code",
    "executionInfo": {
     "elapsed": 850761,
     "status": "ok",
     "timestamp": 1564998067655,
     "user": {
      "displayName": "Elizaveta",
      "photoUrl": "https://lh3.googleusercontent.com/-3-3kSLC4Mzw/AAAAAAAAAAI/AAAAAAAAABg/Usb9K3n3cRI/s64/photo.jpg",
      "userId": "01253993997636551956"
     },
     "user_tz": -120
    },
    "id": "VBsUZjwOJXWl",
    "outputId": "3c0fc225-483a-4682-d1b3-1846091ff094"
   },
   "outputs": [
    {
     "name": "stdout",
     "output_type": "stream",
     "text": [
      "Fitting\n",
      "64830/64830 [==============================] - 13s 194us/step\n",
      "_________________________________\n",
      "PR-C is 0.856\n",
      "_________________________________\n",
      "\n",
      "_________________________________\n",
      "ROC AUC is 0.972\n",
      "_________________________________\n",
      "_________________________________\n",
      "FScore is 0.757\n",
      "_________________________________\n",
      "\n"
     ]
    }
   ],
   "source": [
    "models.train_model(X=X, y=y, X_test=X_test, y_test=y_test, mtype = 'BGRU_att', cv=False, nfolds=5, epochs=4, cv_models_path=models_path, train=False, rs=rs)"
   ]
  },
  {
   "cell_type": "markdown",
   "metadata": {
    "colab_type": "text",
    "id": "qRjMS6wRHpax"
   },
   "source": [
    "# BGRU + Average Pooling"
   ]
  },
  {
   "cell_type": "code",
   "execution_count": null,
   "metadata": {
    "colab": {
     "base_uri": "https://localhost:8080/",
     "height": 578
    },
    "colab_type": "code",
    "executionInfo": {
     "elapsed": 948845,
     "status": "ok",
     "timestamp": 1564998166716,
     "user": {
      "displayName": "Elizaveta",
      "photoUrl": "https://lh3.googleusercontent.com/-3-3kSLC4Mzw/AAAAAAAAAAI/AAAAAAAAABg/Usb9K3n3cRI/s64/photo.jpg",
      "userId": "01253993997636551956"
     },
     "user_tz": -120
    },
    "id": "O_5FTHGqJe26",
    "outputId": "33734ef5-a58f-45db-a380-4708d2d897ce"
   },
   "outputs": [
    {
     "name": "stdout",
     "output_type": "stream",
     "text": [
      " fold 0\n",
      "Fitting\n",
      "31745/31745 [==============================] - 5s 156us/step\n",
      " 0.3 fold 0 precision 0.85 recall 0.771 fscore 0.808\n",
      "fold 0 average precision 0.89\n",
      "fold 0 roc auc 0.976\n",
      " fold 1\n",
      "Fitting\n",
      "31745/31745 [==============================] - 5s 156us/step\n",
      " 0.3 fold 1 precision 0.84 recall 0.758 fscore 0.797\n",
      "fold 1 average precision 0.879\n",
      "fold 1 roc auc 0.971\n",
      " fold 2\n",
      "Fitting\n",
      "31743/31743 [==============================] - 5s 157us/step\n",
      " 0.3 fold 2 precision 0.87 recall 0.771 fscore 0.817\n",
      "fold 2 average precision 0.895\n",
      "fold 2 roc auc 0.976\n",
      " fold 3\n",
      "Fitting\n",
      "31743/31743 [==============================] - 5s 157us/step\n",
      " 0.3 fold 3 precision 0.675 recall 0.822 fscore 0.742\n",
      "fold 3 average precision 0.836\n",
      "fold 3 roc auc 0.97\n",
      " fold 4\n",
      "Fitting\n",
      "31743/31743 [==============================] - 5s 155us/step\n",
      " 0.3 fold 4 precision 0.591 recall 0.864 fscore 0.702\n",
      "fold 4 average precision 0.793\n",
      "fold 4 roc auc 0.966\n",
      "PR-C 0.859\n",
      "ROC AUC 0.972\n",
      "FScore 0.773\n"
     ]
    }
   ],
   "source": [
    "models.train_model(X=X, y=y, mtype = 'BGRU_avg', cv=True, nfolds=5, epochs=4, cv_models_path=cv_models_path, train=False, rs=rs)"
   ]
  },
  {
   "cell_type": "code",
   "execution_count": null,
   "metadata": {
    "colab": {
     "base_uri": "https://localhost:8080/",
     "height": 238
    },
    "colab_type": "code",
    "executionInfo": {
     "elapsed": 976931,
     "status": "ok",
     "timestamp": 1564998196173,
     "user": {
      "displayName": "Elizaveta",
      "photoUrl": "https://lh3.googleusercontent.com/-3-3kSLC4Mzw/AAAAAAAAAAI/AAAAAAAAABg/Usb9K3n3cRI/s64/photo.jpg",
      "userId": "01253993997636551956"
     },
     "user_tz": -120
    },
    "id": "l4V71LbvJgDC",
    "outputId": "b4b4f9f8-1cb6-4c19-8a86-ce07c0b4bab5"
   },
   "outputs": [
    {
     "name": "stdout",
     "output_type": "stream",
     "text": [
      "Fitting\n",
      "64830/64830 [==============================] - 10s 155us/step\n",
      "_________________________________\n",
      "PR-C is 0.855\n",
      "_________________________________\n",
      "\n",
      "_________________________________\n",
      "ROC AUC is 0.971\n",
      "_________________________________\n",
      "_________________________________\n",
      "FScore is 0.769\n",
      "_________________________________\n",
      "\n"
     ]
    }
   ],
   "source": [
    "models.train_model(X=X, y=y, X_test=X_test, y_test=y_test, mtype = 'BGRU_avg', cv=False, nfolds=5, epochs=4, cv_models_path=models_path, train=False, rs=rs)"
   ]
  },
  {
   "cell_type": "markdown",
   "metadata": {
    "colab_type": "text",
    "id": "UoEoBEq5HyKR"
   },
   "source": [
    "# psHAN"
   ]
  },
  {
   "cell_type": "code",
   "execution_count": null,
   "metadata": {
    "colab": {
     "base_uri": "https://localhost:8080/",
     "height": 578
    },
    "colab_type": "code",
    "executionInfo": {
     "elapsed": 1078953,
     "status": "ok",
     "timestamp": 1564998299384,
     "user": {
      "displayName": "Elizaveta",
      "photoUrl": "https://lh3.googleusercontent.com/-3-3kSLC4Mzw/AAAAAAAAAAI/AAAAAAAAABg/Usb9K3n3cRI/s64/photo.jpg",
      "userId": "01253993997636551956"
     },
     "user_tz": -120
    },
    "id": "7mG-6UOxHz0K",
    "outputId": "8b3c69af-6922-4c2c-ba22-9e095b6fa9e8"
   },
   "outputs": [
    {
     "name": "stdout",
     "output_type": "stream",
     "text": [
      " fold 0\n",
      "Fitting\n",
      "31745/31745 [==============================] - 5s 165us/step\n",
      " 0.3 fold 0 precision 0.871 recall 0.72 fscore 0.788\n",
      "fold 0 average precision 0.879\n",
      "fold 0 roc auc 0.971\n",
      " fold 1\n",
      "Fitting\n",
      "31745/31745 [==============================] - 5s 165us/step\n",
      " 0.3 fold 1 precision 0.864 recall 0.736 fscore 0.795\n",
      "fold 1 average precision 0.88\n",
      "fold 1 roc auc 0.971\n",
      " fold 2\n",
      "Fitting\n",
      "31743/31743 [==============================] - 5s 165us/step\n",
      " 0.3 fold 2 precision 0.795 recall 0.813 fscore 0.804\n",
      "fold 2 average precision 0.886\n",
      "fold 2 roc auc 0.972\n",
      " fold 3\n",
      "Fitting\n",
      "31743/31743 [==============================] - 5s 165us/step\n",
      " 0.3 fold 3 precision 0.735 recall 0.769 fscore 0.752\n",
      "fold 3 average precision 0.829\n",
      "fold 3 roc auc 0.969\n",
      " fold 4\n",
      "Fitting\n",
      "31743/31743 [==============================] - 5s 164us/step\n",
      " 0.3 fold 4 precision 0.625 recall 0.816 fscore 0.708\n",
      "fold 4 average precision 0.791\n",
      "fold 4 roc auc 0.968\n",
      "PR-C 0.853\n",
      "ROC AUC 0.97\n",
      "FScore 0.769\n"
     ]
    }
   ],
   "source": [
    "models.train_model(X=X, y=y, mtype = 'psHAN', cv=True, nfolds=5, epochs=4, cv_models_path=cv_models_path, train=False, rs=rs)"
   ]
  },
  {
   "cell_type": "code",
   "execution_count": null,
   "metadata": {
    "colab": {
     "base_uri": "https://localhost:8080/",
     "height": 238
    },
    "colab_type": "code",
    "executionInfo": {
     "elapsed": 1108058,
     "status": "ok",
     "timestamp": 1564998330262,
     "user": {
      "displayName": "Elizaveta",
      "photoUrl": "https://lh3.googleusercontent.com/-3-3kSLC4Mzw/AAAAAAAAAAI/AAAAAAAAABg/Usb9K3n3cRI/s64/photo.jpg",
      "userId": "01253993997636551956"
     },
     "user_tz": -120
    },
    "id": "9wXH8xfyJoJE",
    "outputId": "d0f8093b-ed4b-477a-b700-1f4b11749847"
   },
   "outputs": [
    {
     "name": "stdout",
     "output_type": "stream",
     "text": [
      "Fitting\n",
      "64830/64830 [==============================] - 11s 162us/step\n",
      "_________________________________\n",
      "PR-C is 0.853\n",
      "_________________________________\n",
      "\n",
      "_________________________________\n",
      "ROC AUC is 0.971\n",
      "_________________________________\n",
      "_________________________________\n",
      "FScore is 0.768\n",
      "_________________________________\n",
      "\n"
     ]
    }
   ],
   "source": [
    "models.train_model(X=X, y=y, X_test=X_test, y_test=y_test, mtype = 'psHAN', cv=False, nfolds=5, epochs=4, cv_models_path=models_path, train=False, rs=rs)"
   ]
  },
  {
   "cell_type": "markdown",
   "metadata": {
    "colab_type": "text",
    "id": "Wy2UXRb_Hv-v"
   },
   "source": [
    "# HAN"
   ]
  },
  {
   "cell_type": "code",
   "execution_count": null,
   "metadata": {
    "colab": {},
    "colab_type": "code",
    "id": "3XhJFF0LuANX"
   },
   "outputs": [],
   "source": [
    "#3. Read file as panda dataframe\n",
    "train           = pd.read_csv(f'{data_path}/train_cleaned_sent_punkt.csv') \n",
    "test_labelled   = pd.read_csv(f'{data_path}/test_labelled_cleaned_sent_punkt.csv') \n",
    "test_unlabelled = pd.read_csv(f'{data_path}/test_unlabelled_cleaned_sent_punkt.csv') \n",
    "\n",
    "train['mal']    = train[['toxic', 'severe_toxic', 'obscene', 'threat', 'insult', 'identity_hate']].sum(axis=1) >= 1  \n",
    "train.drop(['toxic', 'severe_toxic', 'obscene', 'threat', 'insult', 'identity_hate'], axis=1, inplace=True)\n",
    "train.comment_text.fillna(\"empty\", inplace=True)\n",
    "\n",
    "test_labelled['mal'] = test_labelled[['toxic', 'severe_toxic', 'obscene', 'threat', 'insult', 'identity_hate']].sum(axis=1) >= 1  \n",
    "test_labelled.drop(['toxic', 'severe_toxic', 'obscene', 'threat', 'insult', 'identity_hate'], axis=1, inplace=True)\n",
    "test_labelled.comment_text.fillna(\"empty\", inplace=True)\n",
    "\n",
    "test_unlabelled.comment_text.fillna(\"empty\", inplace=True)\n",
    "\n",
    "# CHANGE TRAIN AND TEST, MIX TO GET SIMILAR DISTRIBUTION\n",
    "from sklearn.model_selection import train_test_split\n",
    "rs=42\n",
    "X_train1, X_test1, y_train1, y_test1  = train_test_split(train.drop('mal', axis=1), train.mal, stratify=train.mal, test_size=0.29, random_state=rs )\n",
    "X_train2, X_test2, y_train2, y_test2  = train_test_split(test_labelled.drop('mal', axis=1), test_labelled.mal, stratify=test_labelled.mal, test_size=0.29, random_state=rs)\n",
    "\n",
    "X = np.concatenate((X_train1.comment_text, X_train2.comment_text))\n",
    "y = np.concatenate((y_train1, y_train2))\n",
    "\n",
    "X_test = np.concatenate((X_test1.comment_text, X_test2.comment_text))\n",
    "y_test = np.concatenate((y_test1, y_test2))"
   ]
  },
  {
   "cell_type": "code",
   "execution_count": null,
   "metadata": {
    "colab": {
     "base_uri": "https://localhost:8080/",
     "height": 1000
    },
    "colab_type": "code",
    "executionInfo": {
     "elapsed": 1391913,
     "status": "ok",
     "timestamp": 1564998619454,
     "user": {
      "displayName": "Elizaveta",
      "photoUrl": "https://lh3.googleusercontent.com/-3-3kSLC4Mzw/AAAAAAAAAAI/AAAAAAAAABg/Usb9K3n3cRI/s64/photo.jpg",
      "userId": "01253993997636551956"
     },
     "user_tz": -120
    },
    "id": "1BBkUFm4HeSJ",
    "outputId": "816a0ca8-6546-4c11-d30d-36416e9ea0ed"
   },
   "outputs": [
    {
     "name": "stdout",
     "output_type": "stream",
     "text": [
      " fold 0\n",
      "0\n",
      "10000\n",
      "20000\n",
      "30000\n",
      "40000\n",
      "50000\n",
      "60000\n",
      "70000\n",
      "80000\n",
      "90000\n",
      "100000\n",
      "110000\n",
      "120000\n",
      "0\n",
      "10000\n",
      "20000\n",
      "30000\n",
      "Fitting\n",
      "31745/31745 [==============================] - 5s 166us/step\n",
      " 0.3 fold 0 precision 0.815 recall 0.768 fscore 0.791\n",
      "fold 0 average precision 0.87\n",
      "fold 0 roc auc 0.965\n",
      " fold 1\n",
      "0\n",
      "10000\n",
      "20000\n",
      "30000\n",
      "40000\n",
      "50000\n",
      "60000\n",
      "70000\n",
      "80000\n",
      "90000\n",
      "100000\n",
      "110000\n",
      "120000\n",
      "0\n",
      "10000\n",
      "20000\n",
      "30000\n",
      "Fitting\n",
      "31745/31745 [==============================] - 5s 165us/step\n",
      " 0.3 fold 1 precision 0.763 recall 0.791 fscore 0.777\n",
      "fold 1 average precision 0.863\n",
      "fold 1 roc auc 0.966\n",
      " fold 2\n",
      "0\n",
      "10000\n",
      "20000\n",
      "30000\n",
      "40000\n",
      "50000\n",
      "60000\n",
      "70000\n",
      "80000\n",
      "90000\n",
      "100000\n",
      "110000\n",
      "120000\n",
      "0\n",
      "10000\n",
      "20000\n",
      "30000\n",
      "Fitting\n",
      "31743/31743 [==============================] - 5s 165us/step\n",
      " 0.3 fold 2 precision 0.88 recall 0.703 fscore 0.782\n",
      "fold 2 average precision 0.866\n",
      "fold 2 roc auc 0.964\n",
      " fold 3\n",
      "0\n",
      "10000\n",
      "20000\n",
      "30000\n",
      "40000\n",
      "50000\n",
      "60000\n",
      "70000\n",
      "80000\n",
      "90000\n",
      "100000\n",
      "110000\n",
      "120000\n",
      "0\n",
      "10000\n",
      "20000\n",
      "30000\n",
      "Fitting\n",
      "31743/31743 [==============================] - 5s 165us/step\n",
      " 0.3 fold 3 precision 0.674 recall 0.775 fscore 0.721\n",
      "fold 3 average precision 0.812\n",
      "fold 3 roc auc 0.958\n",
      " fold 4\n",
      "0\n",
      "10000\n",
      "20000\n",
      "30000\n",
      "40000\n",
      "50000\n",
      "60000\n",
      "70000\n",
      "80000\n",
      "90000\n",
      "100000\n",
      "110000\n",
      "120000\n",
      "0\n",
      "10000\n",
      "20000\n",
      "30000\n",
      "Fitting\n",
      "31743/31743 [==============================] - 5s 165us/step\n",
      " 0.3 fold 4 precision 0.534 recall 0.883 fscore 0.666\n",
      "fold 4 average precision 0.784\n",
      "fold 4 roc auc 0.963\n",
      "PR-C 0.839\n",
      "ROC AUC 0.963\n",
      "FScore 0.747\n"
     ]
    }
   ],
   "source": [
    "models.train_model(X=X, y=y, mtype = 'HAN', cv=True, nfolds=5, epochs=4, cv_models_path=cv_models_path, train=False, rs=rs)"
   ]
  },
  {
   "cell_type": "code",
   "execution_count": null,
   "metadata": {
    "colab": {
     "base_uri": "https://localhost:8080/",
     "height": 629
    },
    "colab_type": "code",
    "executionInfo": {
     "elapsed": 1471424,
     "status": "ok",
     "timestamp": 1564998701018,
     "user": {
      "displayName": "Elizaveta",
      "photoUrl": "https://lh3.googleusercontent.com/-3-3kSLC4Mzw/AAAAAAAAAAI/AAAAAAAAABg/Usb9K3n3cRI/s64/photo.jpg",
      "userId": "01253993997636551956"
     },
     "user_tz": -120
    },
    "id": "mYeKoheqJkcV",
    "outputId": "06db82a5-1041-40f2-807e-700dc5ba8050"
   },
   "outputs": [
    {
     "name": "stdout",
     "output_type": "stream",
     "text": [
      "0\n",
      "10000\n",
      "20000\n",
      "30000\n",
      "40000\n",
      "50000\n",
      "60000\n",
      "70000\n",
      "80000\n",
      "90000\n",
      "100000\n",
      "110000\n",
      "120000\n",
      "130000\n",
      "140000\n",
      "150000\n",
      "0\n",
      "10000\n",
      "20000\n",
      "30000\n",
      "40000\n",
      "50000\n",
      "60000\n",
      "Fitting\n",
      "64830/64830 [==============================] - 11s 163us/step\n",
      "_________________________________\n",
      "PR-C is 0.833\n",
      "_________________________________\n",
      "\n",
      "_________________________________\n",
      "ROC AUC is 0.964\n",
      "_________________________________\n",
      "_________________________________\n",
      "FScore is 0.748\n",
      "_________________________________\n",
      "\n"
     ]
    }
   ],
   "source": [
    "models.train_model(X=X, y=y, X_test=X_test, y_test=y_test, mtype = 'HAN', cv=False, nfolds=5, epochs=4, cv_models_path=models_path, train=False, rs=rs)"
   ]
  },
  {
   "cell_type": "code",
   "execution_count": null,
   "metadata": {
    "colab": {},
    "colab_type": "code",
    "id": "ZcMyRGl1geT4"
   },
   "outputs": [],
   "source": []
  }
 ],
 "metadata": {
  "accelerator": "GPU",
  "colab": {
   "collapsed_sections": [],
   "name": "AOBDL.ipynb",
   "provenance": []
  },
  "kernelspec": {
   "display_name": "Python 3",
   "language": "python",
   "name": "python3"
  },
  "language_info": {
   "codemirror_mode": {
    "name": "ipython",
    "version": 3
   },
   "file_extension": ".py",
   "mimetype": "text/x-python",
   "name": "python",
   "nbconvert_exporter": "python",
   "pygments_lexer": "ipython3",
   "version": "3.6.8"
  }
 },
 "nbformat": 4,
 "nbformat_minor": 2
}
