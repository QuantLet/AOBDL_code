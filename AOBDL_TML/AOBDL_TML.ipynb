{
 "cells": [
  {
   "cell_type": "code",
   "execution_count": 1,
   "metadata": {
    "colab": {},
    "colab_type": "code",
    "id": "59gnBk5Hw5TS"
   },
   "outputs": [],
   "source": [
    "import pandas as pd\n",
    "import numpy as np\n",
    "import matplotlib.pyplot as plt\n",
    "%matplotlib inline\n",
    "import os\n",
    "\n",
    "from sklearn.pipeline import Pipeline\n",
    "from sklearn.model_selection import GridSearchCV\n",
    "from sklearn.ensemble  import GradientBoostingClassifier, RandomForestClassifier\n",
    "from sklearn.model_selection import StratifiedKFold, cross_val_score, train_test_split, KFold\n",
    "from sklearn.linear_model import LogisticRegression\n",
    "from sklearn.naive_bayes import GaussianNB\n",
    "import random\n",
    "\n",
    "from sklearn import metrics\n",
    "from collections import Counter\n",
    "import argparse\n",
    "from sklearn.model_selection import cross_validate\n",
    "from sklearn.metrics import roc_auc_score, average_precision_score, f1_score, precision_score, recall_score\n",
    "from sklearn.feature_extraction.text import TfidfVectorizer\n",
    "from sklearn.linear_model import SGDClassifier\n",
    "from sklearn.model_selection import ParameterGrid\n",
    "import lightgbm as lgb"
   ]
  },
  {
   "cell_type": "code",
   "execution_count": 4,
   "metadata": {
    "colab": {
     "base_uri": "https://localhost:8080/",
     "height": 122
    },
    "colab_type": "code",
    "executionInfo": {
     "elapsed": 36756,
     "status": "ok",
     "timestamp": 1563196103273,
     "user": {
      "displayName": "Elizaveta",
      "photoUrl": "https://lh3.googleusercontent.com/-3-3kSLC4Mzw/AAAAAAAAAAI/AAAAAAAAABg/Usb9K3n3cRI/s64/photo.jpg",
      "userId": "01253993997636551956"
     },
     "user_tz": -120
    },
    "id": "BqKp-tsqxyzv",
    "outputId": "a7330f89-4217-4f8b-f76f-63aa9312bbd9"
   },
   "outputs": [],
   "source": [
    "if os.name=='posix':\n",
    "    # GOOGLE COLAB SETUP\n",
    "\n",
    "    # Load the Drive helper and mount\n",
    "    from google.colab import drive\n",
    "\n",
    "    # This will prompt for authorization.\n",
    "    drive.mount('/content/drive')\n",
    "    \n",
    "    #2. Get the file\n",
    "    data_path     = 'drive/My Drive/Colab Notebooks/adaptHAN/AOBDL_code/data'\n",
    "    codes_path    = 'drive/My Drive/Colab Notebooks/adaptHAN/AOBDL_code/AOBDL_TML'\n",
    "\n",
    "\n",
    "    #3. Read file as panda dataframe\n",
    "    train         = pd.read_csv(f'{data_path}/train_cleaned_no_punkt.csv') \n",
    "    test_labelled = pd.read_csv(f'{data_path}/test_labelled_cleaned_no_punkt.csv') \n",
    "    test_unlabelled = pd.read_csv(f'{data_path}/test_unlabelled_cleaned_no_punkt.csv') \n",
    "else:\n",
    "        #2. Get the file\n",
    "    data_path     = '../data'\n",
    "    codes_path    = '../AOBDL_TML'\n",
    "\n",
    "\n",
    "    #3. Read file as panda dataframe\n",
    "    train         = pd.read_csv(f'{data_path}/train_cleaned_no_punkt.csv') \n",
    "    test_labelled = pd.read_csv(f'{data_path}/test_labelled_cleaned_no_punkt.csv') \n",
    "    test_unlabelled = pd.read_csv(f'{data_path}/test_unlabelled_cleaned_no_punkt.csv')"
   ]
  },
  {
   "cell_type": "code",
   "execution_count": 5,
   "metadata": {
    "colab": {},
    "colab_type": "code",
    "id": "r1gJD_p_x25z"
   },
   "outputs": [],
   "source": [
    "train['mal'] = train[['toxic', 'severe_toxic', 'obscene', 'threat', 'insult', 'identity_hate']].sum(axis=1) >= 1  \n",
    "train.drop(['toxic', 'severe_toxic', 'obscene', 'threat', 'insult', 'identity_hate'], axis=1, inplace=True)\n",
    "train.comment_text.fillna(\"empty\", inplace=True)\n",
    "train = train.drop_duplicates(subset=['comment_text', 'mal'])\n",
    "\n",
    "test_labelled['mal'] = test_labelled[['toxic', 'severe_toxic', 'obscene', 'threat', 'insult', 'identity_hate']].sum(axis=1) >= 1  \n",
    "test_labelled.drop(['toxic', 'severe_toxic', 'obscene', 'threat', 'insult', 'identity_hate'], axis=1, inplace=True)\n",
    "test_labelled.comment_text.fillna(\"empty\", inplace=True)\n",
    "test_labelled = test_labelled.drop_duplicates(subset=['comment_text'])\n",
    "\n",
    "test_unlabelled.comment_text.fillna(\"empty\", inplace=True)\n",
    "test_unlabelled = test_unlabelled.drop_duplicates(subset=['comment_text'])"
   ]
  },
  {
   "cell_type": "code",
   "execution_count": 6,
   "metadata": {
    "colab": {},
    "colab_type": "code",
    "id": "i_KYWilqyL93"
   },
   "outputs": [],
   "source": [
    "rs=42\n",
    "def strat_split(strat=False):\n",
    "  global rs\n",
    "  if strat:\n",
    "      from sklearn.model_selection import train_test_split      \n",
    "      X_train1, X_test1, y_train1, y_test1  = train_test_split(train.drop('mal', axis=1), train.mal, stratify=train.mal, test_size=0.29, random_state=rs )\n",
    "      X_train2, X_test2, y_train2, y_test2  = train_test_split(test_labelled.drop('mal', axis=1), test_labelled.mal, stratify=test_labelled.mal, test_size=0.29, random_state=rs)\n",
    "      X = np.concatenate((X_train1.comment_text, X_train2.comment_text))\n",
    "      y = np.concatenate((y_train1, y_train2))\n",
    "\n",
    "      X_test = np.concatenate((X_test1.comment_text, X_test2.comment_text))\n",
    "      y_test = np.concatenate((y_test1, y_test2))\n",
    "  else:\n",
    "      X = np.concatenate((train.comment_text, test_labelled.comment_text))\n",
    "      y = np.concatenate((train.mal, test_labelled.mal))\n",
    "      from sklearn.utils import shuffle\n",
    "      from sklearn.model_selection import train_test_split\n",
    "      X = shuffle(X, random_state=rs)\n",
    "      y = shuffle(y, random_state=rs)      \n",
    "      X, X_test, y, y_test  = train_test_split(X, y, stratify=y, test_size=0.3, random_state=rs )\n",
    "      \n",
    "  return X, X_test, y, y_test    \n",
    "X, X_test, y, y_test = strat_split(True)"
   ]
  },
  {
   "cell_type": "code",
   "execution_count": 7,
   "metadata": {
    "colab": {},
    "colab_type": "code",
    "id": "Kq6uloHZybm9"
   },
   "outputs": [],
   "source": [
    "# Ridge"
   ]
  },
  {
   "cell_type": "code",
   "execution_count": 8,
   "metadata": {
    "colab": {},
    "colab_type": "code",
    "id": "yp3Sb225ylVj"
   },
   "outputs": [],
   "source": [
    "kf  = StratifiedKFold(n_splits=5, random_state=rs)\n",
    "auc = []\n",
    "roc = []\n",
    "fscore_ = []\n",
    "c   = 0\n",
    "\n",
    "word_vectorizer   = TfidfVectorizer(\n",
    "    sublinear_tf  = True,\n",
    "    strip_accents = 'unicode',\n",
    "    analyzer      = 'word',\n",
    "    token_pattern = r'\\w{1,}',\n",
    "    stop_words    = 'english',\n",
    "    ngram_range   = (1, 1),\n",
    "    max_features  = 40000)\n",
    "\n"
   ]
  },
  {
   "cell_type": "code",
   "execution_count": 9,
   "metadata": {
    "colab": {},
    "colab_type": "code",
    "id": "6uBKinv90SKh"
   },
   "outputs": [],
   "source": [
    "#auc_pr = 0.093434375824395\n",
    "#auc_roc = 0.02343524395\n",
    "c = 0\n",
    "C_parameter = np.arange(0.1, 1, 0.1) \n",
    "\n",
    "# use best C\n",
    "\n",
    "C_parameter = [1]"
   ]
  },
  {
   "cell_type": "code",
   "execution_count": 10,
   "metadata": {
    "colab": {
     "base_uri": "https://localhost:8080/",
     "height": 425
    },
    "colab_type": "code",
    "executionInfo": {
     "elapsed": 76040,
     "status": "ok",
     "timestamp": 1563196239214,
     "user": {
      "displayName": "Elizaveta",
      "photoUrl": "https://lh3.googleusercontent.com/-3-3kSLC4Mzw/AAAAAAAAAAI/AAAAAAAAABg/Usb9K3n3cRI/s64/photo.jpg",
      "userId": "01253993997636551956"
     },
     "user_tz": -120
    },
    "id": "dFQXRWY2ynsj",
    "outputId": "ec7f3e6d-1b1b-4997-b62b-c19dd3811b8e"
   },
   "outputs": [
    {
     "name": "stdout",
     "output_type": "stream",
     "text": [
      " 0.3 fold 0 precision 0.906 recall 0.655 fscore 0.76\n",
      "---------------------------------------------\n",
      "FOLD 0: AUC PR-C = 0.869, AUC ROC = 0.969\n",
      "---------------------------------------------\n",
      "\n",
      " 0.3 fold 1 precision 0.894 recall 0.66 fscore 0.76\n",
      "---------------------------------------------\n",
      "FOLD 1: AUC PR-C = 0.866, AUC ROC = 0.968\n",
      "---------------------------------------------\n",
      "\n",
      " 0.3 fold 2 precision 0.896 recall 0.668 fscore 0.766\n",
      "---------------------------------------------\n",
      "FOLD 2: AUC PR-C = 0.867, AUC ROC = 0.968\n",
      "---------------------------------------------\n",
      "\n",
      " 0.3 fold 3 precision 0.727 recall 0.72 fscore 0.723\n",
      "---------------------------------------------\n",
      "FOLD 3: AUC PR-C = 0.814, AUC ROC = 0.965\n",
      "---------------------------------------------\n",
      "\n",
      " 0.3 fold 4 precision 0.592 recall 0.819 fscore 0.687\n",
      "---------------------------------------------\n",
      "FOLD 4: AUC PR-C = 0.776, AUC ROC = 0.963\n",
      "---------------------------------------------\n",
      "\n",
      "-----------------------------------------------\n",
      "CV average: AUC PR-C = 0.838, AUC ROC = 0.967, FSCORE  = 0.739\n",
      "-----------------------------------------------\n",
      "\n"
     ]
    }
   ],
   "source": [
    "for c_p in C_parameter:  \n",
    "      for c, (train_index, val_index) in enumerate(kf.split(X, y)):\n",
    "\n",
    "            X_train, X_val      = X[train_index], X[val_index]\n",
    "            y_train, y_val      = y[train_index], y[val_index] \n",
    "            word_vectorizer.fit(X_train)\n",
    "            train_word_features = word_vectorizer.transform(X_train)\n",
    "            val_word_features   = word_vectorizer.transform(X_val)\n",
    "            y_train             = y_train.astype('int')\n",
    "            y_val               = y_val.astype('int')\n",
    "            classifier          = LogisticRegression(C=c_p, solver='sag')\n",
    "            classifier.fit(train_word_features, y_train)\n",
    "            probs               = classifier.predict_proba(val_word_features)[:,1]\n",
    "            auc_roc             = roc_auc_score(y_val, probs)\n",
    "            auc_pr              = average_precision_score(y_val, probs)\n",
    "            \n",
    "            threshold = 0.3\n",
    "            probs_class = probs.copy()\n",
    "            probs_class[probs_class >= threshold] = 1 \n",
    "            probs_class[probs_class < threshold] = 0\n",
    "            precision = precision_score(y_val, probs_class) \n",
    "            recall    = recall_score(y_val, probs_class)\n",
    "            fscore    = f1_score(y_val, probs_class)\n",
    "            print(f' {threshold} fold {c} precision {round(precision, 3)} recall {round(recall, 3)} fscore {round(fscore,3)}')\n",
    "\n",
    "            if len(C_parameter)==1:\n",
    "                # print performance\n",
    "                print(f'---------------------------------------------')\n",
    "                print(f'FOLD {c}: AUC PR-C = {round(auc_pr, 3)}, AUC ROC = {round(auc_roc, 3)}')\n",
    "                print(f'---------------------------------------------')\n",
    "                print(f'')\n",
    "\n",
    "            auc.append(auc_pr)\n",
    "            roc.append(auc_roc)\n",
    "            fscore_.append(fscore)\n",
    "\n",
    "      if len(C_parameter)!=1:\n",
    "             print(f'PARAMETER C = {c_p}')\n",
    "\n",
    "      # print performance\n",
    "      print(f'-----------------------------------------------')\n",
    "      print(f'CV average: AUC PR-C = {round(np.array(auc).mean(), 3)}, AUC ROC = {round(np.array(roc).mean(), 3)}, FSCORE  = {round(np.array(fscore_).mean(), 3)}')\n",
    "      print(f'-----------------------------------------------')\n",
    "      print(f'')"
   ]
  },
  {
   "cell_type": "code",
   "execution_count": 17,
   "metadata": {
    "colab": {
     "base_uri": "https://localhost:8080/",
     "height": 85
    },
    "colab_type": "code",
    "executionInfo": {
     "elapsed": 93055,
     "status": "ok",
     "timestamp": 1563196259302,
     "user": {
      "displayName": "Elizaveta",
      "photoUrl": "https://lh3.googleusercontent.com/-3-3kSLC4Mzw/AAAAAAAAAAI/AAAAAAAAABg/Usb9K3n3cRI/s64/photo.jpg",
      "userId": "01253993997636551956"
     },
     "user_tz": -120
    },
    "id": "3-gRY_RS_xDE",
    "outputId": "3d04bfbb-90da-419f-e226-f84c0ca683e4"
   },
   "outputs": [
    {
     "name": "stdout",
     "output_type": "stream",
     "text": [
      "-----------------------------------------\n",
      "TEST: AUC PR-C = 0.8328, AUC ROC = 0.967\n",
      "-----------------------------------------\n",
      "\n",
      " 0.3 precision 0.787 recall 0.707 fscore 0.745\n"
     ]
    }
   ],
   "source": [
    "# TRAIN ON WHOLE DAATA AND PREDICT ON TEST\n",
    "word_vectorizer.fit(X)\n",
    "train_word_features  = word_vectorizer.transform(X)\n",
    "test_word_features   = word_vectorizer.transform(X_test)\n",
    "classifier           = LogisticRegression(C=1, solver='sag')\n",
    "classifier.fit(train_word_features, y)\n",
    "probs                = classifier.predict_proba(test_word_features)[:,1]\n",
    "auc_roc              = roc_auc_score(y_test, probs)\n",
    "auc_pr               = average_precision_score(y_test, probs)\n",
    "\n",
    "# print performance\n",
    "print(f'-----------------------------------------')\n",
    "print(f'TEST: AUC PR-C = {round(auc_pr, 4)}, AUC ROC = {round(auc_roc, 4)}')\n",
    "print(f'-----------------------------------------')\n",
    "print(f'')\n",
    "\n",
    "threshold = 0.3\n",
    "probs_class = probs.copy()\n",
    "probs_class[probs_class >= threshold] = 1 \n",
    "probs_class[probs_class < threshold] = 0\n",
    "precision = precision_score(y_test, probs_class) \n",
    "recall    = recall_score(y_test, probs_class)\n",
    "fscore    = f1_score(y_test, probs_class)\n",
    "print(f' {threshold} precision {round(precision, 3)} recall {round(recall, 3)} fscore {round(fscore,3)}')\n"
   ]
  },
  {
   "cell_type": "code",
   "execution_count": null,
   "metadata": {
    "colab": {},
    "colab_type": "code",
    "id": "u8Ow8Zl0BVpu"
   },
   "outputs": [],
   "source": [
    "# RF"
   ]
  },
  {
   "cell_type": "code",
   "execution_count": 6,
   "metadata": {
    "colab": {},
    "colab_type": "code",
    "id": "JZh0JwvnEJAj"
   },
   "outputs": [],
   "source": [
    "kf  = StratifiedKFold(n_splits=5, random_state=rs)\n",
    "auc = []\n",
    "roc = []\n",
    "fscore_ = []\n",
    "c   = 0\n",
    "\n",
    "word_vectorizer   = TfidfVectorizer(\n",
    "    sublinear_tf  = True,\n",
    "    strip_accents = 'unicode',\n",
    "    analyzer      = 'word',\n",
    "    token_pattern = r'\\w{1,}',\n",
    "    stop_words    = 'english',\n",
    "    ngram_range   = (1, 1),\n",
    "    max_features  = 40000)"
   ]
  },
  {
   "cell_type": "code",
   "execution_count": 20,
   "metadata": {
    "colab": {
     "base_uri": "https://localhost:8080/",
     "height": 963
    },
    "colab_type": "code",
    "executionInfo": {
     "elapsed": 72699,
     "status": "error",
     "timestamp": 1563199082721,
     "user": {
      "displayName": "Elizaveta",
      "photoUrl": "https://lh3.googleusercontent.com/-3-3kSLC4Mzw/AAAAAAAAAAI/AAAAAAAAABg/Usb9K3n3cRI/s64/photo.jpg",
      "userId": "01253993997636551956"
     },
     "user_tz": -120
    },
    "id": "gdaNEnbwEPVQ",
    "outputId": "c2392b42-d890-4510-e40d-ba0786185794"
   },
   "outputs": [
    {
     "name": "stderr",
     "output_type": "stream",
     "text": [
      "[Parallel(n_jobs=20)]: Using backend ThreadingBackend with 20 concurrent workers.\n",
      "[Parallel(n_jobs=20)]: Done  10 tasks      | elapsed:    5.9s\n",
      "[Parallel(n_jobs=20)]: Done 160 tasks      | elapsed:   47.9s\n",
      "[Parallel(n_jobs=20)]: Done 410 tasks      | elapsed:  2.0min\n",
      "[Parallel(n_jobs=20)]: Done 600 out of 600 | elapsed:  2.9min finished\n",
      "[Parallel(n_jobs=20)]: Using backend ThreadingBackend with 20 concurrent workers.\n",
      "[Parallel(n_jobs=20)]: Done  10 tasks      | elapsed:    0.0s\n",
      "[Parallel(n_jobs=20)]: Done 160 tasks      | elapsed:    0.8s\n",
      "[Parallel(n_jobs=20)]: Done 410 tasks      | elapsed:    2.0s\n",
      "[Parallel(n_jobs=20)]: Done 600 out of 600 | elapsed:    3.0s finished\n"
     ]
    },
    {
     "name": "stdout",
     "output_type": "stream",
     "text": [
      "---------------------------------------------\n",
      "FOLD 0: AUC PR-C = 0.845, AUC ROC = 0.96\n",
      "---------------------------------------------\n",
      "\n",
      " 0.3 fold 0 precision 0.836 recall 0.707 fscore 0.766\n"
     ]
    },
    {
     "name": "stderr",
     "output_type": "stream",
     "text": [
      "[Parallel(n_jobs=20)]: Using backend ThreadingBackend with 20 concurrent workers.\n",
      "[Parallel(n_jobs=20)]: Done  10 tasks      | elapsed:    4.9s\n",
      "[Parallel(n_jobs=20)]: Done 160 tasks      | elapsed:   47.7s\n",
      "[Parallel(n_jobs=20)]: Done 410 tasks      | elapsed:  2.0min\n",
      "[Parallel(n_jobs=20)]: Done 600 out of 600 | elapsed:  2.9min finished\n",
      "[Parallel(n_jobs=20)]: Using backend ThreadingBackend with 20 concurrent workers.\n",
      "[Parallel(n_jobs=20)]: Done  10 tasks      | elapsed:    0.1s\n",
      "[Parallel(n_jobs=20)]: Done 160 tasks      | elapsed:    0.8s\n",
      "[Parallel(n_jobs=20)]: Done 410 tasks      | elapsed:    2.0s\n",
      "[Parallel(n_jobs=20)]: Done 600 out of 600 | elapsed:    2.9s finished\n"
     ]
    },
    {
     "name": "stdout",
     "output_type": "stream",
     "text": [
      "---------------------------------------------\n",
      "FOLD 1: AUC PR-C = 0.854, AUC ROC = 0.964\n",
      "---------------------------------------------\n",
      "\n",
      " 0.3 fold 1 precision 0.835 recall 0.72 fscore 0.773\n"
     ]
    },
    {
     "name": "stderr",
     "output_type": "stream",
     "text": [
      "[Parallel(n_jobs=20)]: Using backend ThreadingBackend with 20 concurrent workers.\n",
      "[Parallel(n_jobs=20)]: Done  10 tasks      | elapsed:    5.8s\n",
      "[Parallel(n_jobs=20)]: Done 160 tasks      | elapsed:   47.9s\n",
      "[Parallel(n_jobs=20)]: Done 410 tasks      | elapsed:  2.0min\n",
      "[Parallel(n_jobs=20)]: Done 600 out of 600 | elapsed:  2.8min finished\n",
      "[Parallel(n_jobs=20)]: Using backend ThreadingBackend with 20 concurrent workers.\n",
      "[Parallel(n_jobs=20)]: Done  10 tasks      | elapsed:    0.1s\n",
      "[Parallel(n_jobs=20)]: Done 160 tasks      | elapsed:    0.8s\n",
      "[Parallel(n_jobs=20)]: Done 410 tasks      | elapsed:    2.0s\n",
      "[Parallel(n_jobs=20)]: Done 600 out of 600 | elapsed:    2.9s finished\n"
     ]
    },
    {
     "name": "stdout",
     "output_type": "stream",
     "text": [
      "---------------------------------------------\n",
      "FOLD 2: AUC PR-C = 0.848, AUC ROC = 0.961\n",
      "---------------------------------------------\n",
      "\n",
      " 0.3 fold 2 precision 0.833 recall 0.708 fscore 0.766\n"
     ]
    },
    {
     "name": "stderr",
     "output_type": "stream",
     "text": [
      "[Parallel(n_jobs=20)]: Using backend ThreadingBackend with 20 concurrent workers.\n",
      "[Parallel(n_jobs=20)]: Done  10 tasks      | elapsed:    5.2s\n",
      "[Parallel(n_jobs=20)]: Done 160 tasks      | elapsed:   46.2s\n",
      "[Parallel(n_jobs=20)]: Done 410 tasks      | elapsed:  1.9min\n",
      "[Parallel(n_jobs=20)]: Done 600 out of 600 | elapsed:  2.8min finished\n",
      "[Parallel(n_jobs=20)]: Using backend ThreadingBackend with 20 concurrent workers.\n",
      "[Parallel(n_jobs=20)]: Done  10 tasks      | elapsed:    0.1s\n",
      "[Parallel(n_jobs=20)]: Done 160 tasks      | elapsed:    0.8s\n",
      "[Parallel(n_jobs=20)]: Done 410 tasks      | elapsed:    2.1s\n",
      "[Parallel(n_jobs=20)]: Done 600 out of 600 | elapsed:    3.0s finished\n"
     ]
    },
    {
     "name": "stdout",
     "output_type": "stream",
     "text": [
      "---------------------------------------------\n",
      "FOLD 3: AUC PR-C = 0.788, AUC ROC = 0.959\n",
      "---------------------------------------------\n",
      "\n",
      " 0.3 fold 3 precision 0.662 recall 0.789 fscore 0.72\n"
     ]
    },
    {
     "name": "stderr",
     "output_type": "stream",
     "text": [
      "[Parallel(n_jobs=20)]: Using backend ThreadingBackend with 20 concurrent workers.\n",
      "[Parallel(n_jobs=20)]: Done  10 tasks      | elapsed:    5.6s\n",
      "[Parallel(n_jobs=20)]: Done 160 tasks      | elapsed:   44.2s\n",
      "[Parallel(n_jobs=20)]: Done 410 tasks      | elapsed:  1.8min\n",
      "[Parallel(n_jobs=20)]: Done 600 out of 600 | elapsed:  2.6min finished\n",
      "[Parallel(n_jobs=20)]: Using backend ThreadingBackend with 20 concurrent workers.\n",
      "[Parallel(n_jobs=20)]: Done  10 tasks      | elapsed:    0.0s\n",
      "[Parallel(n_jobs=20)]: Done 160 tasks      | elapsed:    0.8s\n",
      "[Parallel(n_jobs=20)]: Done 410 tasks      | elapsed:    2.1s\n"
     ]
    },
    {
     "name": "stdout",
     "output_type": "stream",
     "text": [
      "---------------------------------------------\n",
      "FOLD 4: AUC PR-C = 0.738, AUC ROC = 0.961\n",
      "---------------------------------------------\n",
      "\n",
      " 0.3 fold 4 precision 0.511 recall 0.899 fscore 0.652\n",
      "-----------------------------------------------\n",
      "CV average: AUC PR-C = 0.83, AUC ROC = 0.963, FSCORE  = 0.737\n",
      "-----------------------------------------------\n",
      "\n"
     ]
    },
    {
     "name": "stderr",
     "output_type": "stream",
     "text": [
      "[Parallel(n_jobs=20)]: Done 600 out of 600 | elapsed:    3.2s finished\n"
     ]
    }
   ],
   "source": [
    "for c, (train_index, val_index) in enumerate(kf.split(X, y)):\n",
    "\n",
    "            X_train, X_val      = X[train_index], X[val_index]\n",
    "            y_train, y_val      = y[train_index], y[val_index] \n",
    "            word_vectorizer.fit(X_train)\n",
    "            train_word_features = word_vectorizer.transform(X_train)\n",
    "            val_word_features   = word_vectorizer.transform(X_val)\n",
    "            y_train             = y_train.astype('int')\n",
    "            y_val               = y_val.astype('int')\n",
    "            classifier          = RandomForestClassifier(n_estimators=600, max_depth=None, max_features='auto', \n",
    "                                    min_samples_split=2, verbose = True, n_jobs=20)\n",
    "            classifier.fit(train_word_features, y_train)\n",
    "            probs               = classifier.predict_proba(val_word_features)[:,1]\n",
    "            auc_roc             = roc_auc_score(y_val, probs)\n",
    "            auc_pr              = average_precision_score(y_val, probs)\n",
    "\n",
    "            \n",
    "            # print performance\n",
    "            print(f'---------------------------------------------')\n",
    "            print(f'FOLD {c}: AUC PR-C = {round(auc_pr, 3)}, AUC ROC = {round(auc_roc, 3)}')\n",
    "            print(f'---------------------------------------------')\n",
    "            print(f'')\n",
    "\n",
    "            auc.append(auc_pr)\n",
    "            roc.append(auc_roc)\n",
    "            \n",
    "            threshold = 0.3\n",
    "            probs_class = probs.copy()\n",
    "            probs_class[probs_class >= threshold] = 1 \n",
    "            probs_class[probs_class < threshold] = 0\n",
    "            precision = precision_score(y_val, probs_class) \n",
    "            recall    = recall_score(y_val, probs_class)\n",
    "            fscore    = f1_score(y_val, probs_class)\n",
    "            print(f' {threshold} fold {c} precision {round(precision, 3)} recall {round(recall, 3)} fscore {round(fscore,3)}')\n",
    "\n",
    "            fscore_.append(fscore)\n",
    "\n",
    "# print performance\n",
    "print(f'-----------------------------------------------')\n",
    "print(f'CV average: AUC PR-C = {round(np.array(auc).mean(), 3)}, AUC ROC = {round(np.array(roc).mean(), 3)}, FSCORE  = {round(np.array(fscore_).mean(), 3)}')\n",
    "print(f'-----------------------------------------------')\n",
    "print(f'')"
   ]
  },
  {
   "cell_type": "code",
   "execution_count": 21,
   "metadata": {
    "colab": {},
    "colab_type": "code",
    "id": "DWzkZf3873Lx"
   },
   "outputs": [
    {
     "name": "stderr",
     "output_type": "stream",
     "text": [
      "[Parallel(n_jobs=20)]: Using backend ThreadingBackend with 20 concurrent workers.\n",
      "[Parallel(n_jobs=20)]: Done  10 tasks      | elapsed:    8.7s\n",
      "[Parallel(n_jobs=20)]: Done 160 tasks      | elapsed:  1.2min\n",
      "[Parallel(n_jobs=20)]: Done 410 tasks      | elapsed:  3.0min\n",
      "[Parallel(n_jobs=20)]: Done 600 out of 600 | elapsed:  4.4min finished\n",
      "[Parallel(n_jobs=20)]: Using backend ThreadingBackend with 20 concurrent workers.\n",
      "[Parallel(n_jobs=20)]: Done  10 tasks      | elapsed:    0.2s\n",
      "[Parallel(n_jobs=20)]: Done 160 tasks      | elapsed:    3.2s\n",
      "[Parallel(n_jobs=20)]: Done 410 tasks      | elapsed:    7.9s\n",
      "[Parallel(n_jobs=20)]: Done 600 out of 600 | elapsed:   11.6s finished\n"
     ]
    },
    {
     "name": "stdout",
     "output_type": "stream",
     "text": [
      "-----------------------------------------\n",
      "TEST: AUC PR-C = 0.814, AUC ROC = 0.962\n",
      "-----------------------------------------\n",
      "\n",
      " 0.3 precision 0.716 recall 0.766 fscore 0.741\n"
     ]
    }
   ],
   "source": [
    "# TRAIN ON WHOLE DAATA AND PREDICT ON TEST\n",
    "word_vectorizer.fit(X)\n",
    "train_word_features  = word_vectorizer.transform(X)\n",
    "test_word_features   = word_vectorizer.transform(X_test)\n",
    "classifier           = RandomForestClassifier(n_estimators=600, max_depth=None, max_features='auto', \n",
    "                                    min_samples_split=2, verbose = True, n_jobs=20)\n",
    "classifier.fit(train_word_features, y)\n",
    "probs                = classifier.predict_proba(test_word_features)[:,1]\n",
    "auc_roc              = roc_auc_score(y_test, probs)\n",
    "auc_pr               = average_precision_score(y_test, probs)\n",
    "\n",
    "# print performance\n",
    "print(f'-----------------------------------------')\n",
    "print(f'TEST: AUC PR-C = {round(auc_pr, 3)}, AUC ROC = {round(auc_roc, 3)}')\n",
    "print(f'-----------------------------------------')\n",
    "print(f'')\n",
    "\n",
    "threshold = 0.3\n",
    "probs_class = probs.copy()\n",
    "probs_class[probs_class >= threshold] = 1 \n",
    "probs_class[probs_class < threshold] = 0\n",
    "precision = precision_score(y_test, probs_class) \n",
    "recall    = recall_score(y_test, probs_class)\n",
    "fscore    = f1_score(y_test, probs_class)\n",
    "print(f' {threshold} precision {round(precision, 3)} recall {round(recall, 3)} fscore {round(fscore,3)}')\n"
   ]
  },
  {
   "cell_type": "code",
   "execution_count": 22,
   "metadata": {
    "colab": {},
    "colab_type": "code",
    "id": "TaE1LDfR73L8"
   },
   "outputs": [],
   "source": [
    "# SVM"
   ]
  },
  {
   "cell_type": "code",
   "execution_count": 23,
   "metadata": {
    "colab": {
     "base_uri": "https://localhost:8080/",
     "height": 510
    },
    "colab_type": "code",
    "executionInfo": {
     "elapsed": 67446,
     "status": "ok",
     "timestamp": 1563197716166,
     "user": {
      "displayName": "Elizaveta",
      "photoUrl": "https://lh3.googleusercontent.com/-3-3kSLC4Mzw/AAAAAAAAAAI/AAAAAAAAABg/Usb9K3n3cRI/s64/photo.jpg",
      "userId": "01253993997636551956"
     },
     "user_tz": -120
    },
    "id": "Ka3EJ_ze73L_",
    "outputId": "01668d33-2093-46ff-c0b4-f2dbb16641da"
   },
   "outputs": [
    {
     "name": "stdout",
     "output_type": "stream",
     "text": [
      "-------------\n",
      "penalty l1\n",
      "alpha 1e-05\n",
      "max_iter 1000\n",
      "-------------\n",
      "---------------------------------------------\n",
      "FOLD 0: AUC PR-C = 0.862, AUC ROC = 0.964\n",
      "---------------------------------------------\n",
      "\n",
      " 0.3 fold 0 precision 0.939 recall 0.584 fscore 0.72\n",
      "---------------------------------------------\n",
      "FOLD 1: AUC PR-C = 0.862, AUC ROC = 0.962\n",
      "---------------------------------------------\n",
      "\n",
      " 0.3 fold 1 precision 0.931 recall 0.599 fscore 0.729\n",
      "---------------------------------------------\n",
      "FOLD 2: AUC PR-C = 0.864, AUC ROC = 0.963\n",
      "---------------------------------------------\n",
      "\n",
      " 0.3 fold 2 precision 0.942 recall 0.591 fscore 0.726\n",
      "---------------------------------------------\n",
      "FOLD 3: AUC PR-C = 0.812, AUC ROC = 0.963\n",
      "---------------------------------------------\n",
      "\n",
      " 0.3 fold 3 precision 0.777 recall 0.662 fscore 0.715\n",
      "---------------------------------------------\n",
      "FOLD 4: AUC PR-C = 0.781, AUC ROC = 0.963\n",
      "---------------------------------------------\n",
      "\n",
      " 0.3 fold 4 precision 0.623 recall 0.794 fscore 0.698\n",
      "-----------------------------------------------\n",
      "CV average: AUC PR-C = 0.836, AUC ROC = 0.963, FSCORE  = 0.718\n",
      "-----------------------------------------------\n",
      "\n"
     ]
    }
   ],
   "source": [
    "penalty = ['l2', 'l1']\n",
    "alpha = [0.000001, 0.00001, 0.0001, 0.001, 0.01, 0.1]\n",
    "max_iter = [1000, 10000, 15000]\n",
    "\n",
    "# best parameters\n",
    "penalty = ['l1']\n",
    "alpha = [0.00001]\n",
    "max_iter = [1000] \n",
    "\n",
    "for p in penalty:\n",
    "  for a in alpha:\n",
    "    for i in max_iter:\n",
    "      auc = []\n",
    "      roc = []\n",
    "      fscore_ = []\n",
    "      c = 0\n",
    "      # print performance\n",
    "      print(f'-------------')\n",
    "      print(f'penalty {p}')\n",
    "      print(f'alpha {a}')\n",
    "      print(f'max_iter {i}')\n",
    "      print(f'-------------')\n",
    "      \n",
    "      for c, (train_index, val_index) in enumerate(kf.split(X, y)):\n",
    "\n",
    "            X_train, X_val      = X[train_index], X[val_index]\n",
    "            y_train, y_val      = y[train_index], y[val_index] \n",
    "            word_vectorizer.fit(X_train)\n",
    "            train_word_features = word_vectorizer.transform(X_train)\n",
    "            val_word_features   = word_vectorizer.transform(X_val)\n",
    "            y_train             = y_train.astype('int')\n",
    "            y_val               = y_val.astype('int')\n",
    "            classifier          = SGDClassifier(n_jobs=20, random_state=rs, loss='log', shuffle=False, \n",
    "                                    penalty=p, alpha=a, max_iter=i)\n",
    "            classifier.fit(train_word_features, y_train)\n",
    "            probs               = classifier.predict_proba(val_word_features)[:,1]\n",
    "            auc_roc             = roc_auc_score(y_val, probs)\n",
    "            auc_pr              = average_precision_score(y_val, probs)\n",
    "            \n",
    "            \n",
    "            print(f'---------------------------------------------')\n",
    "            print(f'FOLD {c}: AUC PR-C = {round(auc_pr, 3)}, AUC ROC = {round(auc_roc, 3)}')\n",
    "            print(f'---------------------------------------------')\n",
    "            print(f'')\n",
    "\n",
    "            auc.append(auc_pr)\n",
    "            roc.append(auc_roc)\n",
    "            threshold = 0.3\n",
    "            probs_class = probs.copy()\n",
    "            probs_class[probs_class >= threshold] = 1 \n",
    "            probs_class[probs_class < threshold] = 0\n",
    "            precision = precision_score(y_val, probs_class) \n",
    "            recall    = recall_score(y_val, probs_class)\n",
    "            fscore    = f1_score(y_val, probs_class)\n",
    "            print(f' {threshold} fold {c} precision {round(precision, 3)} recall {round(recall, 3)} fscore {round(fscore,3)}')\n",
    "\n",
    "            fscore_.append(fscore)\n",
    "\n",
    "# print performance\n",
    "print(f'-----------------------------------------------')\n",
    "print(f'CV average: AUC PR-C = {round(np.array(auc).mean(), 3)}, AUC ROC = {round(np.array(roc).mean(), 3)}, FSCORE  = {round(np.array(fscore_).mean(), 3)}')\n",
    "print(f'-----------------------------------------------')\n",
    "print(f'')"
   ]
  },
  {
   "cell_type": "code",
   "execution_count": 24,
   "metadata": {
    "colab": {
     "base_uri": "https://localhost:8080/",
     "height": 85
    },
    "colab_type": "code",
    "executionInfo": {
     "elapsed": 84626,
     "status": "ok",
     "timestamp": 1563197733596,
     "user": {
      "displayName": "Elizaveta",
      "photoUrl": "https://lh3.googleusercontent.com/-3-3kSLC4Mzw/AAAAAAAAAAI/AAAAAAAAABg/Usb9K3n3cRI/s64/photo.jpg",
      "userId": "01253993997636551956"
     },
     "user_tz": -120
    },
    "id": "j6b-FZbB73MF",
    "outputId": "e8fcd143-ba3e-46c7-8587-77332bc8236f"
   },
   "outputs": [
    {
     "name": "stdout",
     "output_type": "stream",
     "text": [
      "-----------------------------------------\n",
      "TEST: AUC PR-C = 0.827, AUC ROC = 0.962\n",
      "-----------------------------------------\n",
      "\n",
      " 0.3 precision 0.833 recall 0.638 fscore 0.722\n"
     ]
    }
   ],
   "source": [
    "# TRAIN ON WHOLE DAATA AND PREDICT ON TEST\n",
    "word_vectorizer.fit(X)\n",
    "train_word_features  = word_vectorizer.transform(X)\n",
    "test_word_features   = word_vectorizer.transform(X_test)\n",
    "classifier           = SGDClassifier(n_jobs=20, random_state=rs, loss='log', shuffle=False, \n",
    "                                    penalty=penalty[0], alpha=alpha[0], max_iter=max_iter[0])\n",
    "classifier.fit(train_word_features, y)\n",
    "probs                = classifier.predict_proba(test_word_features)[:,1]\n",
    "auc_roc              = roc_auc_score(y_test, probs)\n",
    "auc_pr               = average_precision_score(y_test, probs)\n",
    "\n",
    "# print performance\n",
    "print(f'-----------------------------------------')\n",
    "print(f'TEST: AUC PR-C = {round(auc_pr, 3)}, AUC ROC = {round(auc_roc, 3)}')\n",
    "print(f'-----------------------------------------')\n",
    "print(f'')\n",
    "\n",
    "threshold = 0.3\n",
    "probs_class = probs.copy()\n",
    "probs_class[probs_class >= threshold] = 1 \n",
    "probs_class[probs_class < threshold] = 0\n",
    "precision = precision_score(y_test, probs_class) \n",
    "recall    = recall_score(y_test, probs_class)\n",
    "fscore    = f1_score(y_test, probs_class)\n",
    "print(f' {threshold} precision {round(precision, 3)} recall {round(recall, 3)} fscore {round(fscore,3)}')\n"
   ]
  },
  {
   "cell_type": "code",
   "execution_count": 25,
   "metadata": {
    "colab": {},
    "colab_type": "code",
    "id": "QS8DDunR73MN"
   },
   "outputs": [],
   "source": [
    "# lightgbm"
   ]
  },
  {
   "cell_type": "code",
   "execution_count": 26,
   "metadata": {
    "colab": {},
    "colab_type": "code",
    "id": "vIidc16r73MR"
   },
   "outputs": [],
   "source": [
    "# muner of rounds\n",
    "max_rounds = 600\n",
    "stopping   = 600\n",
    "verbose    = 200\n",
    "\n",
    "# LGB parameters\n",
    "lgb_params = {\n",
    "    'boosting_type':     'gbdt',\n",
    "    'objective':         'binary',\n",
    "    'metrics':           'binary_logloss',\n",
    "    'bagging_fraction':  0.9,\n",
    "    'feature_fraction':  0.8,\n",
    "    'lambda_l1':         0.1,\n",
    "    'lambda_l2':         0.1,\n",
    "    'min_split_gain':    0.01,\n",
    "    'min_child_weight':  2,\n",
    "    'min_child_samples': 20,\n",
    "    'silent':            True,\n",
    "    'verbosity':         100,\n",
    "    'learning_rate':     0.1,\n",
    "    'max_depth':         7,\n",
    "    'num_leaves':        70,\n",
    "    'scale_pos_weight':  1,\n",
    "    'n_estimators':      max_rounds,\n",
    "    'nthread' :          20,\n",
    "    'random_state':      rs,\n",
    "}"
   ]
  },
  {
   "cell_type": "code",
   "execution_count": 27,
   "metadata": {
    "colab": {
     "base_uri": "https://localhost:8080/",
     "height": 425
    },
    "colab_type": "code",
    "executionInfo": {
     "elapsed": 655409,
     "status": "ok",
     "timestamp": 1563198305347,
     "user": {
      "displayName": "Elizaveta",
      "photoUrl": "https://lh3.googleusercontent.com/-3-3kSLC4Mzw/AAAAAAAAAAI/AAAAAAAAABg/Usb9K3n3cRI/s64/photo.jpg",
      "userId": "01253993997636551956"
     },
     "user_tz": -120
    },
    "id": "KRj8bLuZ73MU",
    "outputId": "e6e9c351-c73c-48d1-ae7f-143f5ca7faf7"
   },
   "outputs": [
    {
     "name": "stdout",
     "output_type": "stream",
     "text": [
      "---------------------------------------------\n",
      "FOLD 0: AUC PR-C = 0.851, AUC ROC = 0.96\n",
      "---------------------------------------------\n",
      "\n",
      " 0.3 fold 0 precision 0.895 recall 0.654 fscore 0.756\n",
      "---------------------------------------------\n",
      "FOLD 1: AUC PR-C = 0.854, AUC ROC = 0.959\n",
      "---------------------------------------------\n",
      "\n",
      " 0.3 fold 1 precision 0.887 recall 0.664 fscore 0.759\n",
      "---------------------------------------------\n",
      "FOLD 2: AUC PR-C = 0.85, AUC ROC = 0.958\n",
      "---------------------------------------------\n",
      "\n",
      " 0.3 fold 2 precision 0.894 recall 0.662 fscore 0.761\n",
      "---------------------------------------------\n",
      "FOLD 3: AUC PR-C = 0.798, AUC ROC = 0.956\n",
      "---------------------------------------------\n",
      "\n",
      " 0.3 fold 3 precision 0.719 recall 0.724 fscore 0.721\n",
      "---------------------------------------------\n",
      "FOLD 4: AUC PR-C = 0.764, AUC ROC = 0.958\n",
      "---------------------------------------------\n",
      "\n",
      " 0.3 fold 4 precision 0.574 recall 0.834 fscore 0.68\n",
      "-----------------------------------------------\n",
      "CV average: AUC PR-C = 0.824, AUC ROC = 0.958, FSCORE  = 0.735\n",
      "-----------------------------------------------\n",
      "\n"
     ]
    }
   ],
   "source": [
    "auc = []\n",
    "roc = []\n",
    "fscore_ = []\n",
    "for c, (train_index, val_index) in enumerate(kf.split(X, y)):\n",
    "\n",
    "            X_train, X_val      = X[train_index], X[val_index]\n",
    "            y_train, y_val      = y[train_index], y[val_index] \n",
    "            word_vectorizer.fit(X_train)\n",
    "            train_word_features = word_vectorizer.transform(X_train)\n",
    "            val_word_features   = word_vectorizer.transform(X_val)\n",
    "            y_train             = y_train.astype('int')\n",
    "            y_val               = y_val.astype('int')\n",
    "            classifier          = lgb.LGBMClassifier(**lgb_params) \n",
    "            classifier.fit(train_word_features, y_train)\n",
    "            probs               = classifier.predict_proba(val_word_features)[:,1]\n",
    "            auc_roc             = roc_auc_score(y_val, probs)\n",
    "            auc_pr              = average_precision_score(y_val, probs)\n",
    "\n",
    "            \n",
    "            # print performance\n",
    "            print(f'---------------------------------------------')\n",
    "            print(f'FOLD {c}: AUC PR-C = {round(auc_pr, 3)}, AUC ROC = {round(auc_roc, 3)}')\n",
    "            print(f'---------------------------------------------')\n",
    "            print(f'')\n",
    "\n",
    "            auc.append(auc_pr)\n",
    "            roc.append(auc_roc)\n",
    "            threshold = 0.3\n",
    "            probs_class = probs.copy()\n",
    "            probs_class[probs_class >= threshold] = 1 \n",
    "            probs_class[probs_class < threshold] = 0\n",
    "            precision = precision_score(y_val, probs_class) \n",
    "            recall    = recall_score(y_val, probs_class)\n",
    "            fscore    = f1_score(y_val, probs_class)\n",
    "            print(f' {threshold} fold {c} precision {round(precision, 3)} recall {round(recall, 3)} fscore {round(fscore,3)}')\n",
    "\n",
    "            fscore_.append(fscore)\n",
    "\n",
    "# print performance\n",
    "print(f'-----------------------------------------------')\n",
    "print(f'CV average: AUC PR-C = {round(np.array(auc).mean(), 3)}, AUC ROC = {round(np.array(roc).mean(), 3)}, FSCORE  = {round(np.array(fscore_).mean(), 3)}')\n",
    "print(f'-----------------------------------------------')\n",
    "print(f'')"
   ]
  },
  {
   "cell_type": "code",
   "execution_count": 28,
   "metadata": {
    "colab": {
     "base_uri": "https://localhost:8080/",
     "height": 85
    },
    "colab_type": "code",
    "executionInfo": {
     "elapsed": 797939,
     "status": "ok",
     "timestamp": 1563198448941,
     "user": {
      "displayName": "Elizaveta",
      "photoUrl": "https://lh3.googleusercontent.com/-3-3kSLC4Mzw/AAAAAAAAAAI/AAAAAAAAABg/Usb9K3n3cRI/s64/photo.jpg",
      "userId": "01253993997636551956"
     },
     "user_tz": -120
    },
    "id": "2mU_hwEX73MZ",
    "outputId": "443a2b40-bf83-4aea-e0c8-a791cdc1e4e7"
   },
   "outputs": [
    {
     "name": "stdout",
     "output_type": "stream",
     "text": [
      "-----------------------------------------\n",
      "TEST: AUC PR-C = 0.819, AUC ROC = 0.958\n",
      "-----------------------------------------\n",
      "\n",
      " 0.3 precision 0.77 recall 0.705 fscore 0.736\n"
     ]
    }
   ],
   "source": [
    "# TRAIN ON WHOLE DAATA AND PREDICT ON TEST\n",
    "word_vectorizer.fit(X)\n",
    "train_word_features  = word_vectorizer.transform(X)\n",
    "test_word_features   = word_vectorizer.transform(X_test)\n",
    "classifier           = lgb.LGBMClassifier(**lgb_params) \n",
    "classifier.fit(train_word_features, y)\n",
    "probs                = classifier.predict_proba(test_word_features)[:,1]\n",
    "auc_roc              = roc_auc_score(y_test, probs)\n",
    "auc_pr               = average_precision_score(y_test, probs)\n",
    "\n",
    "# print performance\n",
    "print(f'-----------------------------------------')\n",
    "print(f'TEST: AUC PR-C = {round(auc_pr, 3)}, AUC ROC = {round(auc_roc, 3)}')\n",
    "print(f'-----------------------------------------')\n",
    "print(f'')\n",
    "\n",
    "threshold = 0.3\n",
    "probs_class = probs.copy()\n",
    "probs_class[probs_class >= threshold] = 1 \n",
    "probs_class[probs_class < threshold] = 0\n",
    "precision = precision_score(y_test, probs_class) \n",
    "recall    = recall_score(y_test, probs_class)\n",
    "fscore    = f1_score(y_test, probs_class)\n",
    "print(f' {threshold} precision {round(precision, 3)} recall {round(recall, 3)} fscore {round(fscore,3)}')\n"
   ]
  },
  {
   "cell_type": "code",
   "execution_count": null,
   "metadata": {
    "colab": {},
    "colab_type": "code",
    "id": "wgT2TCaf73Me"
   },
   "outputs": [],
   "source": []
  }
 ],
 "metadata": {
  "colab": {
   "collapsed_sections": [],
   "name": "code_2_TML_DL.ipynb",
   "provenance": [],
   "version": "0.3.2"
  },
  "kernelspec": {
   "display_name": "Python 3",
   "language": "python",
   "name": "python3"
  },
  "language_info": {
   "codemirror_mode": {
    "name": "ipython",
    "version": 3
   },
   "file_extension": ".py",
   "mimetype": "text/x-python",
   "name": "python",
   "nbconvert_exporter": "python",
   "pygments_lexer": "ipython3",
   "version": "3.6.8"
  }
 },
 "nbformat": 4,
 "nbformat_minor": 2
}
