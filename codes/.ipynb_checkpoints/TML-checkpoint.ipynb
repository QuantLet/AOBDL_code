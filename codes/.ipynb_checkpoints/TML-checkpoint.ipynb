{
 "cells": [
  {
   "cell_type": "code",
   "execution_count": 1,
   "metadata": {
    "colab": {},
    "colab_type": "code",
    "id": "59gnBk5Hw5TS"
   },
   "outputs": [],
   "source": [
    "import pandas as pd\n",
    "import numpy as np\n",
    "import matplotlib.pyplot as plt\n",
    "%matplotlib inline\n",
    "\n",
    "from sklearn.pipeline import Pipeline\n",
    "from sklearn.model_selection import GridSearchCV\n",
    "from sklearn.ensemble  import GradientBoostingClassifier, RandomForestClassifier\n",
    "from sklearn.model_selection import StratifiedKFold, cross_val_score, train_test_split, KFold\n",
    "from sklearn.linear_model import LogisticRegression\n",
    "from sklearn.naive_bayes import GaussianNB\n",
    "import random\n",
    "\n",
    "from sklearn import metrics\n",
    "from collections import Counter\n",
    "import argparse\n",
    "from sklearn.model_selection import cross_validate\n",
    "from sklearn.metrics import roc_auc_score, average_precision_score\n",
    "from sklearn.feature_extraction.text import TfidfVectorizer\n",
    "from sklearn.linear_model import SGDClassifier\n",
    "from sklearn.model_selection import ParameterGrid\n",
    "import lightgbm as lgb"
   ]
  },
  {
   "cell_type": "code",
   "execution_count": 2,
   "metadata": {
    "colab": {
     "base_uri": "https://localhost:8080/",
     "height": 122
    },
    "colab_type": "code",
    "executionInfo": {
     "elapsed": 36756,
     "status": "ok",
     "timestamp": 1563196103273,
     "user": {
      "displayName": "Elizaveta",
      "photoUrl": "https://lh3.googleusercontent.com/-3-3kSLC4Mzw/AAAAAAAAAAI/AAAAAAAAABg/Usb9K3n3cRI/s64/photo.jpg",
      "userId": "01253993997636551956"
     },
     "user_tz": -120
    },
    "id": "BqKp-tsqxyzv",
    "outputId": "a7330f89-4217-4f8b-f76f-63aa9312bbd9"
   },
   "outputs": [
    {
     "name": "stdout",
     "output_type": "stream",
     "text": [
      "Go to this URL in a browser: https://accounts.google.com/o/oauth2/auth?client_id=947318989803-6bn6qk8qdgf4n4g3pfee6491hc0brc4i.apps.googleusercontent.com&redirect_uri=urn%3Aietf%3Awg%3Aoauth%3A2.0%3Aoob&scope=email%20https%3A%2F%2Fwww.googleapis.com%2Fauth%2Fdocs.test%20https%3A%2F%2Fwww.googleapis.com%2Fauth%2Fdrive%20https%3A%2F%2Fwww.googleapis.com%2Fauth%2Fdrive.photos.readonly%20https%3A%2F%2Fwww.googleapis.com%2Fauth%2Fpeopleapi.readonly&response_type=code\n",
      "\n",
      "Enter your authorization code:\n",
      "··········\n",
      "Mounted at /content/drive\n"
     ]
    }
   ],
   "source": [
    "# GOOGLE COLAB SETUP\n",
    "\n",
    "# Load the Drive helper and mount\n",
    "from google.colab import drive\n",
    "\n",
    "# This will prompt for authorization.\n",
    "drive.mount('/content/drive')"
   ]
  },
  {
   "cell_type": "code",
   "execution_count": 3,
   "metadata": {
    "colab": {
     "base_uri": "https://localhost:8080/",
     "height": 34
    },
    "colab_type": "code",
    "executionInfo": {
     "elapsed": 38023,
     "status": "ok",
     "timestamp": 1563196104547,
     "user": {
      "displayName": "Elizaveta",
      "photoUrl": "https://lh3.googleusercontent.com/-3-3kSLC4Mzw/AAAAAAAAAAI/AAAAAAAAABg/Usb9K3n3cRI/s64/photo.jpg",
      "userId": "01253993997636551956"
     },
     "user_tz": -120
    },
    "id": "ir7GGm4p73Kh",
    "outputId": "87cf5394-c962-4cd0-eef8-b4f7d985801c"
   },
   "outputs": [
    {
     "name": "stdout",
     "output_type": "stream",
     "text": [
      "/content\n"
     ]
    }
   ],
   "source": [
    "!pwd"
   ]
  },
  {
   "cell_type": "code",
   "execution_count": 2,
   "metadata": {
    "colab": {},
    "colab_type": "code",
    "id": "sRpOrXSow9Hv"
   },
   "outputs": [
    {
     "ename": "FileNotFoundError",
     "evalue": "[Errno 2] File b'drive/My Drive/Colab Notebooks/adaptHAN/AOBDL_code/data/train_cleaned_no_punkt.csv' does not exist: b'drive/My Drive/Colab Notebooks/adaptHAN/AOBDL_code/data/train_cleaned_no_punkt.csv'",
     "output_type": "error",
     "traceback": [
      "\u001b[1;31m---------------------------------------------------------------------------\u001b[0m",
      "\u001b[1;31mFileNotFoundError\u001b[0m                         Traceback (most recent call last)",
      "\u001b[1;32m<ipython-input-2-4e6748f457a0>\u001b[0m in \u001b[0;36m<module>\u001b[1;34m\u001b[0m\n\u001b[0;32m      5\u001b[0m \u001b[1;33m\u001b[0m\u001b[0m\n\u001b[0;32m      6\u001b[0m \u001b[1;31m#3. Read file as panda dataframe\u001b[0m\u001b[1;33m\u001b[0m\u001b[1;33m\u001b[0m\u001b[1;33m\u001b[0m\u001b[0m\n\u001b[1;32m----> 7\u001b[1;33m \u001b[0mtrain\u001b[0m         \u001b[1;33m=\u001b[0m \u001b[0mpd\u001b[0m\u001b[1;33m.\u001b[0m\u001b[0mread_csv\u001b[0m\u001b[1;33m(\u001b[0m\u001b[1;34mf'{data_path}/train_cleaned_no_punkt.csv'\u001b[0m\u001b[1;33m)\u001b[0m\u001b[1;33m\u001b[0m\u001b[1;33m\u001b[0m\u001b[0m\n\u001b[0m\u001b[0;32m      8\u001b[0m \u001b[0mtest_labelled\u001b[0m \u001b[1;33m=\u001b[0m \u001b[0mpd\u001b[0m\u001b[1;33m.\u001b[0m\u001b[0mread_csv\u001b[0m\u001b[1;33m(\u001b[0m\u001b[1;34mf'{data_path}/test_labelled_cleaned_no_punkt.csv'\u001b[0m\u001b[1;33m)\u001b[0m\u001b[1;33m\u001b[0m\u001b[1;33m\u001b[0m\u001b[0m\n\u001b[0;32m      9\u001b[0m \u001b[0mtest_unlabelled\u001b[0m \u001b[1;33m=\u001b[0m \u001b[0mpd\u001b[0m\u001b[1;33m.\u001b[0m\u001b[0mread_csv\u001b[0m\u001b[1;33m(\u001b[0m\u001b[1;34mf'{data_path}/test_unlabelled_cleaned_no_punkt.csv'\u001b[0m\u001b[1;33m)\u001b[0m\u001b[1;33m\u001b[0m\u001b[1;33m\u001b[0m\u001b[0m\n",
      "\u001b[1;32m~\\AppData\\Local\\Continuum\\miniconda3\\envs\\deep\\lib\\site-packages\\pandas\\io\\parsers.py\u001b[0m in \u001b[0;36mparser_f\u001b[1;34m(filepath_or_buffer, sep, delimiter, header, names, index_col, usecols, squeeze, prefix, mangle_dupe_cols, dtype, engine, converters, true_values, false_values, skipinitialspace, skiprows, skipfooter, nrows, na_values, keep_default_na, na_filter, verbose, skip_blank_lines, parse_dates, infer_datetime_format, keep_date_col, date_parser, dayfirst, iterator, chunksize, compression, thousands, decimal, lineterminator, quotechar, quoting, doublequote, escapechar, comment, encoding, dialect, tupleize_cols, error_bad_lines, warn_bad_lines, delim_whitespace, low_memory, memory_map, float_precision)\u001b[0m\n\u001b[0;32m    700\u001b[0m                     skip_blank_lines=skip_blank_lines)\n\u001b[0;32m    701\u001b[0m \u001b[1;33m\u001b[0m\u001b[0m\n\u001b[1;32m--> 702\u001b[1;33m         \u001b[1;32mreturn\u001b[0m \u001b[0m_read\u001b[0m\u001b[1;33m(\u001b[0m\u001b[0mfilepath_or_buffer\u001b[0m\u001b[1;33m,\u001b[0m \u001b[0mkwds\u001b[0m\u001b[1;33m)\u001b[0m\u001b[1;33m\u001b[0m\u001b[1;33m\u001b[0m\u001b[0m\n\u001b[0m\u001b[0;32m    703\u001b[0m \u001b[1;33m\u001b[0m\u001b[0m\n\u001b[0;32m    704\u001b[0m     \u001b[0mparser_f\u001b[0m\u001b[1;33m.\u001b[0m\u001b[0m__name__\u001b[0m \u001b[1;33m=\u001b[0m \u001b[0mname\u001b[0m\u001b[1;33m\u001b[0m\u001b[1;33m\u001b[0m\u001b[0m\n",
      "\u001b[1;32m~\\AppData\\Local\\Continuum\\miniconda3\\envs\\deep\\lib\\site-packages\\pandas\\io\\parsers.py\u001b[0m in \u001b[0;36m_read\u001b[1;34m(filepath_or_buffer, kwds)\u001b[0m\n\u001b[0;32m    427\u001b[0m \u001b[1;33m\u001b[0m\u001b[0m\n\u001b[0;32m    428\u001b[0m     \u001b[1;31m# Create the parser.\u001b[0m\u001b[1;33m\u001b[0m\u001b[1;33m\u001b[0m\u001b[1;33m\u001b[0m\u001b[0m\n\u001b[1;32m--> 429\u001b[1;33m     \u001b[0mparser\u001b[0m \u001b[1;33m=\u001b[0m \u001b[0mTextFileReader\u001b[0m\u001b[1;33m(\u001b[0m\u001b[0mfilepath_or_buffer\u001b[0m\u001b[1;33m,\u001b[0m \u001b[1;33m**\u001b[0m\u001b[0mkwds\u001b[0m\u001b[1;33m)\u001b[0m\u001b[1;33m\u001b[0m\u001b[1;33m\u001b[0m\u001b[0m\n\u001b[0m\u001b[0;32m    430\u001b[0m \u001b[1;33m\u001b[0m\u001b[0m\n\u001b[0;32m    431\u001b[0m     \u001b[1;32mif\u001b[0m \u001b[0mchunksize\u001b[0m \u001b[1;32mor\u001b[0m \u001b[0miterator\u001b[0m\u001b[1;33m:\u001b[0m\u001b[1;33m\u001b[0m\u001b[1;33m\u001b[0m\u001b[0m\n",
      "\u001b[1;32m~\\AppData\\Local\\Continuum\\miniconda3\\envs\\deep\\lib\\site-packages\\pandas\\io\\parsers.py\u001b[0m in \u001b[0;36m__init__\u001b[1;34m(self, f, engine, **kwds)\u001b[0m\n\u001b[0;32m    893\u001b[0m             \u001b[0mself\u001b[0m\u001b[1;33m.\u001b[0m\u001b[0moptions\u001b[0m\u001b[1;33m[\u001b[0m\u001b[1;34m'has_index_names'\u001b[0m\u001b[1;33m]\u001b[0m \u001b[1;33m=\u001b[0m \u001b[0mkwds\u001b[0m\u001b[1;33m[\u001b[0m\u001b[1;34m'has_index_names'\u001b[0m\u001b[1;33m]\u001b[0m\u001b[1;33m\u001b[0m\u001b[1;33m\u001b[0m\u001b[0m\n\u001b[0;32m    894\u001b[0m \u001b[1;33m\u001b[0m\u001b[0m\n\u001b[1;32m--> 895\u001b[1;33m         \u001b[0mself\u001b[0m\u001b[1;33m.\u001b[0m\u001b[0m_make_engine\u001b[0m\u001b[1;33m(\u001b[0m\u001b[0mself\u001b[0m\u001b[1;33m.\u001b[0m\u001b[0mengine\u001b[0m\u001b[1;33m)\u001b[0m\u001b[1;33m\u001b[0m\u001b[1;33m\u001b[0m\u001b[0m\n\u001b[0m\u001b[0;32m    896\u001b[0m \u001b[1;33m\u001b[0m\u001b[0m\n\u001b[0;32m    897\u001b[0m     \u001b[1;32mdef\u001b[0m \u001b[0mclose\u001b[0m\u001b[1;33m(\u001b[0m\u001b[0mself\u001b[0m\u001b[1;33m)\u001b[0m\u001b[1;33m:\u001b[0m\u001b[1;33m\u001b[0m\u001b[1;33m\u001b[0m\u001b[0m\n",
      "\u001b[1;32m~\\AppData\\Local\\Continuum\\miniconda3\\envs\\deep\\lib\\site-packages\\pandas\\io\\parsers.py\u001b[0m in \u001b[0;36m_make_engine\u001b[1;34m(self, engine)\u001b[0m\n\u001b[0;32m   1120\u001b[0m     \u001b[1;32mdef\u001b[0m \u001b[0m_make_engine\u001b[0m\u001b[1;33m(\u001b[0m\u001b[0mself\u001b[0m\u001b[1;33m,\u001b[0m \u001b[0mengine\u001b[0m\u001b[1;33m=\u001b[0m\u001b[1;34m'c'\u001b[0m\u001b[1;33m)\u001b[0m\u001b[1;33m:\u001b[0m\u001b[1;33m\u001b[0m\u001b[1;33m\u001b[0m\u001b[0m\n\u001b[0;32m   1121\u001b[0m         \u001b[1;32mif\u001b[0m \u001b[0mengine\u001b[0m \u001b[1;33m==\u001b[0m \u001b[1;34m'c'\u001b[0m\u001b[1;33m:\u001b[0m\u001b[1;33m\u001b[0m\u001b[1;33m\u001b[0m\u001b[0m\n\u001b[1;32m-> 1122\u001b[1;33m             \u001b[0mself\u001b[0m\u001b[1;33m.\u001b[0m\u001b[0m_engine\u001b[0m \u001b[1;33m=\u001b[0m \u001b[0mCParserWrapper\u001b[0m\u001b[1;33m(\u001b[0m\u001b[0mself\u001b[0m\u001b[1;33m.\u001b[0m\u001b[0mf\u001b[0m\u001b[1;33m,\u001b[0m \u001b[1;33m**\u001b[0m\u001b[0mself\u001b[0m\u001b[1;33m.\u001b[0m\u001b[0moptions\u001b[0m\u001b[1;33m)\u001b[0m\u001b[1;33m\u001b[0m\u001b[1;33m\u001b[0m\u001b[0m\n\u001b[0m\u001b[0;32m   1123\u001b[0m         \u001b[1;32melse\u001b[0m\u001b[1;33m:\u001b[0m\u001b[1;33m\u001b[0m\u001b[1;33m\u001b[0m\u001b[0m\n\u001b[0;32m   1124\u001b[0m             \u001b[1;32mif\u001b[0m \u001b[0mengine\u001b[0m \u001b[1;33m==\u001b[0m \u001b[1;34m'python'\u001b[0m\u001b[1;33m:\u001b[0m\u001b[1;33m\u001b[0m\u001b[1;33m\u001b[0m\u001b[0m\n",
      "\u001b[1;32m~\\AppData\\Local\\Continuum\\miniconda3\\envs\\deep\\lib\\site-packages\\pandas\\io\\parsers.py\u001b[0m in \u001b[0;36m__init__\u001b[1;34m(self, src, **kwds)\u001b[0m\n\u001b[0;32m   1851\u001b[0m         \u001b[0mkwds\u001b[0m\u001b[1;33m[\u001b[0m\u001b[1;34m'usecols'\u001b[0m\u001b[1;33m]\u001b[0m \u001b[1;33m=\u001b[0m \u001b[0mself\u001b[0m\u001b[1;33m.\u001b[0m\u001b[0musecols\u001b[0m\u001b[1;33m\u001b[0m\u001b[1;33m\u001b[0m\u001b[0m\n\u001b[0;32m   1852\u001b[0m \u001b[1;33m\u001b[0m\u001b[0m\n\u001b[1;32m-> 1853\u001b[1;33m         \u001b[0mself\u001b[0m\u001b[1;33m.\u001b[0m\u001b[0m_reader\u001b[0m \u001b[1;33m=\u001b[0m \u001b[0mparsers\u001b[0m\u001b[1;33m.\u001b[0m\u001b[0mTextReader\u001b[0m\u001b[1;33m(\u001b[0m\u001b[0msrc\u001b[0m\u001b[1;33m,\u001b[0m \u001b[1;33m**\u001b[0m\u001b[0mkwds\u001b[0m\u001b[1;33m)\u001b[0m\u001b[1;33m\u001b[0m\u001b[1;33m\u001b[0m\u001b[0m\n\u001b[0m\u001b[0;32m   1854\u001b[0m         \u001b[0mself\u001b[0m\u001b[1;33m.\u001b[0m\u001b[0munnamed_cols\u001b[0m \u001b[1;33m=\u001b[0m \u001b[0mself\u001b[0m\u001b[1;33m.\u001b[0m\u001b[0m_reader\u001b[0m\u001b[1;33m.\u001b[0m\u001b[0munnamed_cols\u001b[0m\u001b[1;33m\u001b[0m\u001b[1;33m\u001b[0m\u001b[0m\n\u001b[0;32m   1855\u001b[0m \u001b[1;33m\u001b[0m\u001b[0m\n",
      "\u001b[1;32mpandas/_libs/parsers.pyx\u001b[0m in \u001b[0;36mpandas._libs.parsers.TextReader.__cinit__\u001b[1;34m()\u001b[0m\n",
      "\u001b[1;32mpandas/_libs/parsers.pyx\u001b[0m in \u001b[0;36mpandas._libs.parsers.TextReader._setup_parser_source\u001b[1;34m()\u001b[0m\n",
      "\u001b[1;31mFileNotFoundError\u001b[0m: [Errno 2] File b'drive/My Drive/Colab Notebooks/adaptHAN/AOBDL_code/data/train_cleaned_no_punkt.csv' does not exist: b'drive/My Drive/Colab Notebooks/adaptHAN/AOBDL_code/data/train_cleaned_no_punkt.csv'"
     ]
    }
   ],
   "source": [
    "#2. Get the file\n",
    "data_path     = 'drive/My Drive/Colab Notebooks/adaptHAN/AOBDL_code/data'\n",
    "codes_path    = 'drive/My Drive/Colab Notebooks/adaptHAN/AOBDL_code/codes'\n",
    "\n",
    "\n",
    "#3. Read file as panda dataframe\n",
    "train         = pd.read_csv(f'{data_path}/train_cleaned_no_punkt.csv') \n",
    "test_labelled = pd.read_csv(f'{data_path}/test_labelled_cleaned_no_punkt.csv') \n",
    "test_unlabelled = pd.read_csv(f'{data_path}/test_unlabelled_cleaned_no_punkt.csv') "
   ]
  },
  {
   "cell_type": "code",
   "execution_count": 3,
   "metadata": {
    "colab": {
     "base_uri": "https://localhost:8080/",
     "height": 443
    },
    "colab_type": "code",
    "executionInfo": {
     "elapsed": 43197,
     "status": "error",
     "timestamp": 1563196109724,
     "user": {
      "displayName": "Elizaveta",
      "photoUrl": "https://lh3.googleusercontent.com/-3-3kSLC4Mzw/AAAAAAAAAAI/AAAAAAAAABg/Usb9K3n3cRI/s64/photo.jpg",
      "userId": "01253993997636551956"
     },
     "user_tz": -120
    },
    "id": "orFLR4CN73Kq",
    "outputId": "d8b589c5-8d76-41b7-e3bd-810b197a223d"
   },
   "outputs": [],
   "source": [
    "#2. Get the file\n",
    "data_path     = '../data'\n",
    "codes_path    = '../codes'\n",
    "\n",
    "\n",
    "#3. Read file as panda dataframe\n",
    "train         = pd.read_csv(f'{data_path}/train_cleaned_no_punkt.csv') \n",
    "test_labelled = pd.read_csv(f'{data_path}/test_labelled_cleaned_no_punkt.csv') \n",
    "test_unlabelled = pd.read_csv(f'{data_path}/test_unlabelled_cleaned_no_punkt.csv')"
   ]
  },
  {
   "cell_type": "code",
   "execution_count": 4,
   "metadata": {
    "colab": {},
    "colab_type": "code",
    "id": "r1gJD_p_x25z"
   },
   "outputs": [],
   "source": [
    "train['mal'] = train[['toxic', 'severe_toxic', 'obscene', 'threat', 'insult', 'identity_hate']].sum(axis=1) >= 1  \n",
    "train.drop(['toxic', 'severe_toxic', 'obscene', 'threat', 'insult', 'identity_hate'], axis=1, inplace=True)\n",
    "train.comment_text.fillna(\"empty\", inplace=True)\n",
    "train = train.drop_duplicates(subset=['comment_text', 'mal'])\n",
    "\n",
    "test_labelled['mal'] = test_labelled[['toxic', 'severe_toxic', 'obscene', 'threat', 'insult', 'identity_hate']].sum(axis=1) >= 1  \n",
    "test_labelled.drop(['toxic', 'severe_toxic', 'obscene', 'threat', 'insult', 'identity_hate'], axis=1, inplace=True)\n",
    "test_labelled.comment_text.fillna(\"empty\", inplace=True)\n",
    "test_labelled = test_labelled.drop_duplicates(subset=['comment_text'])\n",
    "\n",
    "test_unlabelled.comment_text.fillna(\"empty\", inplace=True)\n",
    "test_unlabelled = test_unlabelled.drop_duplicates(subset=['comment_text'])"
   ]
  },
  {
   "cell_type": "code",
   "execution_count": 5,
   "metadata": {
    "colab": {},
    "colab_type": "code",
    "id": "i_KYWilqyL93"
   },
   "outputs": [],
   "source": [
    "rs=42\n",
    "def strat_split(strat=False):\n",
    "  global rs\n",
    "  if strat:\n",
    "      from sklearn.model_selection import train_test_split      \n",
    "      X_train1, X_test1, y_train1, y_test1  = train_test_split(train.drop('mal', axis=1), train.mal, stratify=train.mal, test_size=0.29, random_state=rs )\n",
    "      X_train2, X_test2, y_train2, y_test2  = train_test_split(test_labelled.drop('mal', axis=1), test_labelled.mal, stratify=test_labelled.mal, test_size=0.29, random_state=rs)\n",
    "      X = np.concatenate((X_train1.comment_text, X_train2.comment_text))\n",
    "      y = np.concatenate((y_train1, y_train2))\n",
    "\n",
    "      X_test = np.concatenate((X_test1.comment_text, X_test2.comment_text))\n",
    "      y_test = np.concatenate((y_test1, y_test2))\n",
    "  else:\n",
    "      X = np.concatenate((train.comment_text, test_labelled.comment_text))\n",
    "      y = np.concatenate((train.mal, test_labelled.mal))\n",
    "      from sklearn.utils import shuffle\n",
    "      from sklearn.model_selection import train_test_split\n",
    "      X = shuffle(X, random_state=rs)\n",
    "      y = shuffle(y, random_state=rs)      \n",
    "      X, X_test, y, y_test  = train_test_split(X, y, stratify=y, test_size=0.3, random_state=rs )\n",
    "      \n",
    "  return X, X_test, y, y_test    \n",
    "X, X_test, y, y_test = strat_split(True)"
   ]
  },
  {
   "cell_type": "code",
   "execution_count": null,
   "metadata": {
    "colab": {},
    "colab_type": "code",
    "id": "Kq6uloHZybm9"
   },
   "outputs": [],
   "source": [
    "# Ridge"
   ]
  },
  {
   "cell_type": "code",
   "execution_count": null,
   "metadata": {
    "colab": {},
    "colab_type": "code",
    "id": "yp3Sb225ylVj"
   },
   "outputs": [],
   "source": [
    "kf  = StratifiedKFold(n_splits=5, random_state=rs)\n",
    "auc = []\n",
    "roc = []\n",
    "c   = 0\n",
    "\n",
    "word_vectorizer   = TfidfVectorizer(\n",
    "    sublinear_tf  = True,\n",
    "    strip_accents = 'unicode',\n",
    "    analyzer      = 'word',\n",
    "    token_pattern = r'\\w{1,}',\n",
    "    stop_words    = 'english',\n",
    "    ngram_range   = (1, 1),\n",
    "    max_features  = 40000)\n",
    "\n"
   ]
  },
  {
   "cell_type": "code",
   "execution_count": null,
   "metadata": {
    "colab": {},
    "colab_type": "code",
    "id": "6uBKinv90SKh"
   },
   "outputs": [],
   "source": [
    "#auc_pr = 0.093434375824395\n",
    "#auc_roc = 0.02343524395\n",
    "c = 0\n",
    "C_parameter = np.arange(0.1, 1, 0.1) \n",
    "\n",
    "# use best C\n",
    "\n",
    "C_parameter = [1]"
   ]
  },
  {
   "cell_type": "code",
   "execution_count": 12,
   "metadata": {
    "colab": {
     "base_uri": "https://localhost:8080/",
     "height": 425
    },
    "colab_type": "code",
    "executionInfo": {
     "elapsed": 76040,
     "status": "ok",
     "timestamp": 1563196239214,
     "user": {
      "displayName": "Elizaveta",
      "photoUrl": "https://lh3.googleusercontent.com/-3-3kSLC4Mzw/AAAAAAAAAAI/AAAAAAAAABg/Usb9K3n3cRI/s64/photo.jpg",
      "userId": "01253993997636551956"
     },
     "user_tz": -120
    },
    "id": "dFQXRWY2ynsj",
    "outputId": "ec7f3e6d-1b1b-4997-b62b-c19dd3811b8e"
   },
   "outputs": [
    {
     "name": "stdout",
     "output_type": "stream",
     "text": [
      "---------------------------------------------\n",
      "FOLD 0: AUC PR-C = 0.869, AUC ROC = 0.9689\n",
      "---------------------------------------------\n",
      "\n",
      "---------------------------------------------\n",
      "FOLD 1: AUC PR-C = 0.8656, AUC ROC = 0.968\n",
      "---------------------------------------------\n",
      "\n",
      "---------------------------------------------\n",
      "FOLD 2: AUC PR-C = 0.8671, AUC ROC = 0.9681\n",
      "---------------------------------------------\n",
      "\n",
      "---------------------------------------------\n",
      "FOLD 3: AUC PR-C = 0.8143, AUC ROC = 0.9647\n",
      "---------------------------------------------\n",
      "\n",
      "---------------------------------------------\n",
      "FOLD 4: AUC PR-C = 0.7758, AUC ROC = 0.9629\n",
      "---------------------------------------------\n",
      "\n",
      "-----------------------------------------------\n",
      "CV average: AUC PR-C = 0.8383, AUC ROC = 0.9665\n",
      "-----------------------------------------------\n",
      "\n"
     ]
    }
   ],
   "source": [
    "for c_p in C_parameter:  \n",
    "      for c, (train_index, val_index) in enumerate(kf.split(X, y)):\n",
    "\n",
    "            X_train, X_val      = X[train_index], X[val_index]\n",
    "            y_train, y_val      = y[train_index], y[val_index] \n",
    "            word_vectorizer.fit(X_train)\n",
    "            train_word_features = word_vectorizer.transform(X_train)\n",
    "            val_word_features   = word_vectorizer.transform(X_val)\n",
    "            y_train             = y_train.astype('int')\n",
    "            y_val               = y_val.astype('int')\n",
    "            classifier          = LogisticRegression(C=c_p, solver='sag')\n",
    "            classifier.fit(train_word_features, y_train)\n",
    "            probs               = classifier.predict_proba(val_word_features)[:,1]\n",
    "            auc_roc             = roc_auc_score(y_val, probs)\n",
    "            auc_pr              = average_precision_score(y_val, probs)\n",
    "\n",
    "            if len(C_parameter)==1:\n",
    "                # print performance\n",
    "                print(f'---------------------------------------------')\n",
    "                print(f'FOLD {c}: AUC PR-C = {round(auc_pr, 4)}, AUC ROC = {round(auc_roc, 4)}')\n",
    "                print(f'---------------------------------------------')\n",
    "                print(f'')\n",
    "\n",
    "            auc.append(auc_pr)\n",
    "            roc.append(auc_roc)\n",
    "            c += 1\n",
    "\n",
    "      if len(C_parameter)!=1:\n",
    "             print(f'PARAMETER C = {c_p}')\n",
    "\n",
    "      # print performance\n",
    "      print(f'-----------------------------------------------')\n",
    "      print(f'CV average: AUC PR-C = {round(np.array(auc).mean(), 4)}, AUC ROC = {round(np.array(roc).mean(), 4)}')\n",
    "      print(f'-----------------------------------------------')\n",
    "      print(f'')"
   ]
  },
  {
   "cell_type": "code",
   "execution_count": 13,
   "metadata": {
    "colab": {
     "base_uri": "https://localhost:8080/",
     "height": 85
    },
    "colab_type": "code",
    "executionInfo": {
     "elapsed": 93055,
     "status": "ok",
     "timestamp": 1563196259302,
     "user": {
      "displayName": "Elizaveta",
      "photoUrl": "https://lh3.googleusercontent.com/-3-3kSLC4Mzw/AAAAAAAAAAI/AAAAAAAAABg/Usb9K3n3cRI/s64/photo.jpg",
      "userId": "01253993997636551956"
     },
     "user_tz": -120
    },
    "id": "3-gRY_RS_xDE",
    "outputId": "3d04bfbb-90da-419f-e226-f84c0ca683e4"
   },
   "outputs": [
    {
     "name": "stdout",
     "output_type": "stream",
     "text": [
      "-----------------------------------------\n",
      "TEST: AUC PR-C = 0.8328, AUC ROC = 0.967\n",
      "-----------------------------------------\n",
      "\n"
     ]
    }
   ],
   "source": [
    "# TRAIN ON WHOLE DAATA AND PREDICT ON TEST\n",
    "word_vectorizer.fit(X)\n",
    "train_word_features  = word_vectorizer.transform(X)\n",
    "test_word_features   = word_vectorizer.transform(X_test)\n",
    "classifier           = LogisticRegression(C=1, solver='sag')\n",
    "classifier.fit(train_word_features, y)\n",
    "probs                = classifier.predict_proba(test_word_features)[:,1]\n",
    "auc_roc              = roc_auc_score(y_test, probs)\n",
    "auc_pr               = average_precision_score(y_test, probs)\n",
    "\n",
    "# print performance\n",
    "print(f'-----------------------------------------')\n",
    "print(f'TEST: AUC PR-C = {round(auc_pr, 4)}, AUC ROC = {round(auc_roc, 4)}')\n",
    "print(f'-----------------------------------------')\n",
    "print(f'')"
   ]
  },
  {
   "cell_type": "code",
   "execution_count": null,
   "metadata": {
    "colab": {},
    "colab_type": "code",
    "id": "u8Ow8Zl0BVpu"
   },
   "outputs": [],
   "source": [
    "# RF"
   ]
  },
  {
   "cell_type": "code",
   "execution_count": 6,
   "metadata": {
    "colab": {},
    "colab_type": "code",
    "id": "JZh0JwvnEJAj"
   },
   "outputs": [],
   "source": [
    "kf  = StratifiedKFold(n_splits=5, random_state=rs)\n",
    "auc = []\n",
    "roc = []\n",
    "c   = 0\n",
    "\n",
    "word_vectorizer   = TfidfVectorizer(\n",
    "    sublinear_tf  = True,\n",
    "    strip_accents = 'unicode',\n",
    "    analyzer      = 'word',\n",
    "    token_pattern = r'\\w{1,}',\n",
    "    stop_words    = 'english',\n",
    "    ngram_range   = (1, 1),\n",
    "    max_features  = 40000)"
   ]
  },
  {
   "cell_type": "code",
   "execution_count": 7,
   "metadata": {
    "colab": {
     "base_uri": "https://localhost:8080/",
     "height": 963
    },
    "colab_type": "code",
    "executionInfo": {
     "elapsed": 72699,
     "status": "error",
     "timestamp": 1563199082721,
     "user": {
      "displayName": "Elizaveta",
      "photoUrl": "https://lh3.googleusercontent.com/-3-3kSLC4Mzw/AAAAAAAAAAI/AAAAAAAAABg/Usb9K3n3cRI/s64/photo.jpg",
      "userId": "01253993997636551956"
     },
     "user_tz": -120
    },
    "id": "gdaNEnbwEPVQ",
    "outputId": "c2392b42-d890-4510-e40d-ba0786185794"
   },
   "outputs": [
    {
     "name": "stderr",
     "output_type": "stream",
     "text": [
      "[Parallel(n_jobs=20)]: Using backend ThreadingBackend with 20 concurrent workers.\n",
      "[Parallel(n_jobs=20)]: Done  10 tasks      | elapsed:    8.0s\n",
      "[Parallel(n_jobs=20)]: Done 160 tasks      | elapsed:  1.0min\n",
      "[Parallel(n_jobs=20)]: Done 410 tasks      | elapsed:  2.5min\n",
      "[Parallel(n_jobs=20)]: Done 600 out of 600 | elapsed:  3.6min finished\n",
      "[Parallel(n_jobs=20)]: Using backend ThreadingBackend with 20 concurrent workers.\n",
      "[Parallel(n_jobs=20)]: Done  10 tasks      | elapsed:    0.0s\n",
      "[Parallel(n_jobs=20)]: Done 160 tasks      | elapsed:    0.9s\n",
      "[Parallel(n_jobs=20)]: Done 410 tasks      | elapsed:    2.4s\n",
      "[Parallel(n_jobs=20)]: Done 600 out of 600 | elapsed:    3.7s finished\n"
     ]
    },
    {
     "name": "stdout",
     "output_type": "stream",
     "text": [
      "---------------------------------------------\n",
      "FOLD 0: AUC PR-C = 0.846, AUC ROC = 0.96\n",
      "---------------------------------------------\n",
      "\n"
     ]
    },
    {
     "name": "stderr",
     "output_type": "stream",
     "text": [
      "[Parallel(n_jobs=20)]: Using backend ThreadingBackend with 20 concurrent workers.\n",
      "[Parallel(n_jobs=20)]: Done  10 tasks      | elapsed:    6.4s\n",
      "[Parallel(n_jobs=20)]: Done 160 tasks      | elapsed:  1.0min\n",
      "[Parallel(n_jobs=20)]: Done 410 tasks      | elapsed:  2.6min\n",
      "[Parallel(n_jobs=20)]: Done 600 out of 600 | elapsed:  3.8min finished\n",
      "[Parallel(n_jobs=20)]: Using backend ThreadingBackend with 20 concurrent workers.\n",
      "[Parallel(n_jobs=20)]: Done  10 tasks      | elapsed:    0.1s\n",
      "[Parallel(n_jobs=20)]: Done 160 tasks      | elapsed:    0.9s\n",
      "[Parallel(n_jobs=20)]: Done 410 tasks      | elapsed:    2.4s\n",
      "[Parallel(n_jobs=20)]: Done 600 out of 600 | elapsed:    3.5s finished\n"
     ]
    },
    {
     "name": "stdout",
     "output_type": "stream",
     "text": [
      "---------------------------------------------\n",
      "FOLD 1: AUC PR-C = 0.854, AUC ROC = 0.964\n",
      "---------------------------------------------\n",
      "\n"
     ]
    },
    {
     "name": "stderr",
     "output_type": "stream",
     "text": [
      "[Parallel(n_jobs=20)]: Using backend ThreadingBackend with 20 concurrent workers.\n",
      "[Parallel(n_jobs=20)]: Done  10 tasks      | elapsed:    7.1s\n",
      "[Parallel(n_jobs=20)]: Done 160 tasks      | elapsed:  1.0min\n",
      "[Parallel(n_jobs=20)]: Done 410 tasks      | elapsed:  2.5min\n",
      "[Parallel(n_jobs=20)]: Done 600 out of 600 | elapsed:  3.6min finished\n",
      "[Parallel(n_jobs=20)]: Using backend ThreadingBackend with 20 concurrent workers.\n",
      "[Parallel(n_jobs=20)]: Done  10 tasks      | elapsed:    0.1s\n",
      "[Parallel(n_jobs=20)]: Done 160 tasks      | elapsed:    0.9s\n",
      "[Parallel(n_jobs=20)]: Done 410 tasks      | elapsed:    2.5s\n",
      "[Parallel(n_jobs=20)]: Done 600 out of 600 | elapsed:    3.6s finished\n"
     ]
    },
    {
     "name": "stdout",
     "output_type": "stream",
     "text": [
      "---------------------------------------------\n",
      "FOLD 2: AUC PR-C = 0.847, AUC ROC = 0.961\n",
      "---------------------------------------------\n",
      "\n"
     ]
    },
    {
     "name": "stderr",
     "output_type": "stream",
     "text": [
      "[Parallel(n_jobs=20)]: Using backend ThreadingBackend with 20 concurrent workers.\n",
      "[Parallel(n_jobs=20)]: Done  10 tasks      | elapsed:    8.0s\n",
      "[Parallel(n_jobs=20)]: Done 160 tasks      | elapsed:  1.1min\n",
      "[Parallel(n_jobs=20)]: Done 410 tasks      | elapsed:  2.6min\n",
      "[Parallel(n_jobs=20)]: Done 600 out of 600 | elapsed:  3.7min finished\n",
      "[Parallel(n_jobs=20)]: Using backend ThreadingBackend with 20 concurrent workers.\n",
      "[Parallel(n_jobs=20)]: Done  10 tasks      | elapsed:    0.1s\n",
      "[Parallel(n_jobs=20)]: Done 160 tasks      | elapsed:    1.0s\n",
      "[Parallel(n_jobs=20)]: Done 410 tasks      | elapsed:    2.8s\n",
      "[Parallel(n_jobs=20)]: Done 600 out of 600 | elapsed:    4.0s finished\n"
     ]
    },
    {
     "name": "stdout",
     "output_type": "stream",
     "text": [
      "---------------------------------------------\n",
      "FOLD 3: AUC PR-C = 0.787, AUC ROC = 0.96\n",
      "---------------------------------------------\n",
      "\n"
     ]
    },
    {
     "name": "stderr",
     "output_type": "stream",
     "text": [
      "[Parallel(n_jobs=20)]: Using backend ThreadingBackend with 20 concurrent workers.\n",
      "[Parallel(n_jobs=20)]: Done  10 tasks      | elapsed:    6.3s\n",
      "[Parallel(n_jobs=20)]: Done 160 tasks      | elapsed:   58.4s\n",
      "[Parallel(n_jobs=20)]: Done 410 tasks      | elapsed:  2.4min\n",
      "[Parallel(n_jobs=20)]: Done 600 out of 600 | elapsed:  3.5min finished\n",
      "[Parallel(n_jobs=20)]: Using backend ThreadingBackend with 20 concurrent workers.\n",
      "[Parallel(n_jobs=20)]: Done  10 tasks      | elapsed:    0.0s\n",
      "[Parallel(n_jobs=20)]: Done 160 tasks      | elapsed:    1.0s\n",
      "[Parallel(n_jobs=20)]: Done 410 tasks      | elapsed:    2.5s\n"
     ]
    },
    {
     "name": "stdout",
     "output_type": "stream",
     "text": [
      "---------------------------------------------\n",
      "FOLD 4: AUC PR-C = 0.737, AUC ROC = 0.961\n",
      "---------------------------------------------\n",
      "\n",
      "-----------------------------------------------\n",
      "CV average: AUC PR-C = 0.814, AUC ROC = 0.961\n",
      "-----------------------------------------------\n",
      "\n"
     ]
    },
    {
     "name": "stderr",
     "output_type": "stream",
     "text": [
      "[Parallel(n_jobs=20)]: Done 600 out of 600 | elapsed:    3.8s finished\n"
     ]
    }
   ],
   "source": [
    "for c, (train_index, val_index) in enumerate(kf.split(X, y)):\n",
    "\n",
    "            X_train, X_val      = X[train_index], X[val_index]\n",
    "            y_train, y_val      = y[train_index], y[val_index] \n",
    "            word_vectorizer.fit(X_train)\n",
    "            train_word_features = word_vectorizer.transform(X_train)\n",
    "            val_word_features   = word_vectorizer.transform(X_val)\n",
    "            y_train             = y_train.astype('int')\n",
    "            y_val               = y_val.astype('int')\n",
    "            classifier          = RandomForestClassifier(n_estimators=600, max_depth=None, max_features='auto', \n",
    "                                    min_samples_split=2, verbose = True, n_jobs=20)\n",
    "            classifier.fit(train_word_features, y_train)\n",
    "            probs               = classifier.predict_proba(val_word_features)[:,1]\n",
    "            auc_roc             = roc_auc_score(y_val, probs)\n",
    "            auc_pr              = average_precision_score(y_val, probs)\n",
    "\n",
    "            \n",
    "            # print performance\n",
    "            print(f'---------------------------------------------')\n",
    "            print(f'FOLD {c}: AUC PR-C = {round(auc_pr, 3)}, AUC ROC = {round(auc_roc, 3)}')\n",
    "            print(f'---------------------------------------------')\n",
    "            print(f'')\n",
    "\n",
    "            auc.append(auc_pr)\n",
    "            roc.append(auc_roc)\n",
    "            c += 1\n",
    "\n",
    "\n",
    "# print performance\n",
    "print(f'-----------------------------------------------')\n",
    "print(f'CV average: AUC PR-C = {round(np.array(auc).mean(), 3)}, AUC ROC = {round(np.array(roc).mean(), 3)}')\n",
    "print(f'-----------------------------------------------')\n",
    "print(f'')"
   ]
  },
  {
   "cell_type": "code",
   "execution_count": 8,
   "metadata": {
    "colab": {},
    "colab_type": "code",
    "id": "DWzkZf3873Lx"
   },
   "outputs": [
    {
     "name": "stderr",
     "output_type": "stream",
     "text": [
      "[Parallel(n_jobs=20)]: Using backend ThreadingBackend with 20 concurrent workers.\n",
      "[Parallel(n_jobs=20)]: Done  10 tasks      | elapsed:   11.1s\n",
      "[Parallel(n_jobs=20)]: Done 160 tasks      | elapsed:  1.5min\n",
      "[Parallel(n_jobs=20)]: Done 410 tasks      | elapsed:  3.9min\n",
      "[Parallel(n_jobs=20)]: Done 600 out of 600 | elapsed:  5.6min finished\n",
      "[Parallel(n_jobs=20)]: Using backend ThreadingBackend with 20 concurrent workers.\n",
      "[Parallel(n_jobs=20)]: Done  10 tasks      | elapsed:    0.3s\n",
      "[Parallel(n_jobs=20)]: Done 160 tasks      | elapsed:    3.7s\n",
      "[Parallel(n_jobs=20)]: Done 410 tasks      | elapsed:    9.1s\n"
     ]
    },
    {
     "name": "stdout",
     "output_type": "stream",
     "text": [
      "-----------------------------------------\n",
      "TEST: AUC PR-C = 0.814, AUC ROC = 0.963\n",
      "-----------------------------------------\n",
      "\n"
     ]
    },
    {
     "name": "stderr",
     "output_type": "stream",
     "text": [
      "[Parallel(n_jobs=20)]: Done 600 out of 600 | elapsed:   12.9s finished\n"
     ]
    }
   ],
   "source": [
    "# TRAIN ON WHOLE DAATA AND PREDICT ON TEST\n",
    "word_vectorizer.fit(X)\n",
    "train_word_features  = word_vectorizer.transform(X)\n",
    "test_word_features   = word_vectorizer.transform(X_test)\n",
    "classifier           = RandomForestClassifier(n_estimators=600, max_depth=None, max_features='auto', \n",
    "                                    min_samples_split=2, verbose = True, n_jobs=20)\n",
    "classifier.fit(train_word_features, y)\n",
    "probs                = classifier.predict_proba(test_word_features)[:,1]\n",
    "auc_roc              = roc_auc_score(y_test, probs)\n",
    "auc_pr               = average_precision_score(y_test, probs)\n",
    "\n",
    "# print performance\n",
    "print(f'-----------------------------------------')\n",
    "print(f'TEST: AUC PR-C = {round(auc_pr, 3)}, AUC ROC = {round(auc_roc, 3)}')\n",
    "print(f'-----------------------------------------')\n",
    "print(f'')"
   ]
  },
  {
   "cell_type": "code",
   "execution_count": null,
   "metadata": {
    "colab": {},
    "colab_type": "code",
    "id": "TaE1LDfR73L8"
   },
   "outputs": [],
   "source": [
    "# SVM"
   ]
  },
  {
   "cell_type": "code",
   "execution_count": 26,
   "metadata": {
    "colab": {
     "base_uri": "https://localhost:8080/",
     "height": 510
    },
    "colab_type": "code",
    "executionInfo": {
     "elapsed": 67446,
     "status": "ok",
     "timestamp": 1563197716166,
     "user": {
      "displayName": "Elizaveta",
      "photoUrl": "https://lh3.googleusercontent.com/-3-3kSLC4Mzw/AAAAAAAAAAI/AAAAAAAAABg/Usb9K3n3cRI/s64/photo.jpg",
      "userId": "01253993997636551956"
     },
     "user_tz": -120
    },
    "id": "Ka3EJ_ze73L_",
    "outputId": "01668d33-2093-46ff-c0b4-f2dbb16641da"
   },
   "outputs": [
    {
     "name": "stdout",
     "output_type": "stream",
     "text": [
      "-------------\n",
      "penalty l1\n",
      "alpha 1e-05\n",
      "max_iter 1000\n",
      "-------------\n",
      "---------------------------------------------\n",
      "FOLD 0: AUC PR-C = 0.862, AUC ROC = 0.964\n",
      "---------------------------------------------\n",
      "\n",
      "---------------------------------------------\n",
      "FOLD 1: AUC PR-C = 0.862, AUC ROC = 0.962\n",
      "---------------------------------------------\n",
      "\n",
      "---------------------------------------------\n",
      "FOLD 2: AUC PR-C = 0.864, AUC ROC = 0.963\n",
      "---------------------------------------------\n",
      "\n",
      "---------------------------------------------\n",
      "FOLD 3: AUC PR-C = 0.812, AUC ROC = 0.963\n",
      "---------------------------------------------\n",
      "\n",
      "---------------------------------------------\n",
      "FOLD 4: AUC PR-C = 0.781, AUC ROC = 0.963\n",
      "---------------------------------------------\n",
      "\n",
      "-----------------------------------------------\n",
      "CV average: AUC PR-C = 0.836, AUC ROC = 0.963\n",
      "-----------------------------------------------\n",
      "\n"
     ]
    }
   ],
   "source": [
    "penalty = ['l2', 'l1']\n",
    "alpha = [0.000001, 0.00001, 0.0001, 0.001, 0.01, 0.1]\n",
    "max_iter = [1000, 10000, 15000]\n",
    "\n",
    "# best parameters\n",
    "penalty = ['l1']\n",
    "alpha = [0.00001]\n",
    "max_iter = [1000] \n",
    "\n",
    "for p in penalty:\n",
    "  for a in alpha:\n",
    "    for i in max_iter:\n",
    "      auc = []\n",
    "      roc = []\n",
    "      c = 0\n",
    "      # print performance\n",
    "      print(f'-------------')\n",
    "      print(f'penalty {p}')\n",
    "      print(f'alpha {a}')\n",
    "      print(f'max_iter {i}')\n",
    "      print(f'-------------')\n",
    "      \n",
    "      for c, (train_index, val_index) in enumerate(kf.split(X, y)):\n",
    "\n",
    "            X_train, X_val      = X[train_index], X[val_index]\n",
    "            y_train, y_val      = y[train_index], y[val_index] \n",
    "            word_vectorizer.fit(X_train)\n",
    "            train_word_features = word_vectorizer.transform(X_train)\n",
    "            val_word_features   = word_vectorizer.transform(X_val)\n",
    "            y_train             = y_train.astype('int')\n",
    "            y_val               = y_val.astype('int')\n",
    "            classifier          = SGDClassifier(n_jobs=20, random_state=rs, loss='log', shuffle=False, \n",
    "                                    penalty=p, alpha=a, max_iter=i)\n",
    "            classifier.fit(train_word_features, y_train)\n",
    "            probs               = classifier.predict_proba(val_word_features)[:,1]\n",
    "            auc_roc             = roc_auc_score(y_val, probs)\n",
    "            auc_pr              = average_precision_score(y_val, probs)\n",
    "            \n",
    "            \n",
    "            print(f'---------------------------------------------')\n",
    "            print(f'FOLD {c}: AUC PR-C = {round(auc_pr, 3)}, AUC ROC = {round(auc_roc, 3)}')\n",
    "            print(f'---------------------------------------------')\n",
    "            print(f'')\n",
    "\n",
    "            auc.append(auc_pr)\n",
    "            roc.append(auc_roc)\n",
    "            c += 1\n",
    "\n",
    "\n",
    "# print performance\n",
    "print(f'-----------------------------------------------')\n",
    "print(f'CV average: AUC PR-C = {round(np.array(auc).mean(), 3)}, AUC ROC = {round(np.array(roc).mean(), 3)}')\n",
    "print(f'-----------------------------------------------')\n",
    "print(f'')"
   ]
  },
  {
   "cell_type": "code",
   "execution_count": 27,
   "metadata": {
    "colab": {
     "base_uri": "https://localhost:8080/",
     "height": 85
    },
    "colab_type": "code",
    "executionInfo": {
     "elapsed": 84626,
     "status": "ok",
     "timestamp": 1563197733596,
     "user": {
      "displayName": "Elizaveta",
      "photoUrl": "https://lh3.googleusercontent.com/-3-3kSLC4Mzw/AAAAAAAAAAI/AAAAAAAAABg/Usb9K3n3cRI/s64/photo.jpg",
      "userId": "01253993997636551956"
     },
     "user_tz": -120
    },
    "id": "j6b-FZbB73MF",
    "outputId": "e8fcd143-ba3e-46c7-8587-77332bc8236f"
   },
   "outputs": [
    {
     "name": "stdout",
     "output_type": "stream",
     "text": [
      "-----------------------------------------\n",
      "TEST: AUC PR-C = 0.827, AUC ROC = 0.9618\n",
      "-----------------------------------------\n",
      "\n"
     ]
    }
   ],
   "source": [
    "# TRAIN ON WHOLE DAATA AND PREDICT ON TEST\n",
    "word_vectorizer.fit(X)\n",
    "train_word_features  = word_vectorizer.transform(X)\n",
    "test_word_features   = word_vectorizer.transform(X_test)\n",
    "classifier           = SGDClassifier(n_jobs=20, random_state=rs, loss='log', shuffle=False, \n",
    "                                    penalty=penalty[0], alpha=alpha[0], max_iter=max_iter[0])\n",
    "classifier.fit(train_word_features, y)\n",
    "probs                = classifier.predict_proba(test_word_features)[:,1]\n",
    "auc_roc              = roc_auc_score(y_test, probs)\n",
    "auc_pr               = average_precision_score(y_test, probs)\n",
    "\n",
    "# print performance\n",
    "print(f'-----------------------------------------')\n",
    "print(f'TEST: AUC PR-C = {round(auc_pr, 3)}, AUC ROC = {round(auc_roc, 3)}')\n",
    "print(f'-----------------------------------------')\n",
    "print(f'')"
   ]
  },
  {
   "cell_type": "code",
   "execution_count": null,
   "metadata": {
    "colab": {},
    "colab_type": "code",
    "id": "QS8DDunR73MN"
   },
   "outputs": [],
   "source": [
    "# lightgbm"
   ]
  },
  {
   "cell_type": "code",
   "execution_count": null,
   "metadata": {
    "colab": {},
    "colab_type": "code",
    "id": "vIidc16r73MR"
   },
   "outputs": [],
   "source": [
    "# muner of rounds\n",
    "max_rounds = 600\n",
    "stopping   = 600\n",
    "verbose    = 200\n",
    "\n",
    "# LGB parameters\n",
    "lgb_params = {\n",
    "    'boosting_type':     'gbdt',\n",
    "    'objective':         'binary',\n",
    "    'metrics':           'binary_logloss',\n",
    "    'bagging_fraction':  0.9,\n",
    "    'feature_fraction':  0.8,\n",
    "    'lambda_l1':         0.1,\n",
    "    'lambda_l2':         0.1,\n",
    "    'min_split_gain':    0.01,\n",
    "    'min_child_weight':  2,\n",
    "    'min_child_samples': 20,\n",
    "    'silent':            True,\n",
    "    'verbosity':         100,\n",
    "    'learning_rate':     0.1,\n",
    "    'max_depth':         7,\n",
    "    'num_leaves':        70,\n",
    "    'scale_pos_weight':  1,\n",
    "    'n_estimators':      max_rounds,\n",
    "    'nthread' :          20,\n",
    "    'random_state':      rs,\n",
    "}"
   ]
  },
  {
   "cell_type": "code",
   "execution_count": 30,
   "metadata": {
    "colab": {
     "base_uri": "https://localhost:8080/",
     "height": 425
    },
    "colab_type": "code",
    "executionInfo": {
     "elapsed": 655409,
     "status": "ok",
     "timestamp": 1563198305347,
     "user": {
      "displayName": "Elizaveta",
      "photoUrl": "https://lh3.googleusercontent.com/-3-3kSLC4Mzw/AAAAAAAAAAI/AAAAAAAAABg/Usb9K3n3cRI/s64/photo.jpg",
      "userId": "01253993997636551956"
     },
     "user_tz": -120
    },
    "id": "KRj8bLuZ73MU",
    "outputId": "e6e9c351-c73c-48d1-ae7f-143f5ca7faf7"
   },
   "outputs": [
    {
     "name": "stdout",
     "output_type": "stream",
     "text": [
      "---------------------------------------------\n",
      "FOLD 0: AUC PR-C = 0.851, AUC ROC = 0.96\n",
      "---------------------------------------------\n",
      "\n",
      "---------------------------------------------\n",
      "FOLD 1: AUC PR-C = 0.854, AUC ROC = 0.959\n",
      "---------------------------------------------\n",
      "\n",
      "---------------------------------------------\n",
      "FOLD 2: AUC PR-C = 0.85, AUC ROC = 0.958\n",
      "---------------------------------------------\n",
      "\n",
      "---------------------------------------------\n",
      "FOLD 3: AUC PR-C = 0.798, AUC ROC = 0.956\n",
      "---------------------------------------------\n",
      "\n",
      "---------------------------------------------\n",
      "FOLD 4: AUC PR-C = 0.764, AUC ROC = 0.958\n",
      "---------------------------------------------\n",
      "\n",
      "-----------------------------------------------\n",
      "CV average: AUC PR-C = 0.83, AUC ROC = 0.961\n",
      "-----------------------------------------------\n",
      "\n"
     ]
    }
   ],
   "source": [
    "for c, (train_index, val_index) in enumerate(kf.split(X, y)):\n",
    "\n",
    "            X_train, X_val      = X[train_index], X[val_index]\n",
    "            y_train, y_val      = y[train_index], y[val_index] \n",
    "            word_vectorizer.fit(X_train)\n",
    "            train_word_features = word_vectorizer.transform(X_train)\n",
    "            val_word_features   = word_vectorizer.transform(X_val)\n",
    "            y_train             = y_train.astype('int')\n",
    "            y_val               = y_val.astype('int')\n",
    "            classifier          = lgb.LGBMClassifier(**lgb_params) \n",
    "            classifier.fit(train_word_features, y_train)\n",
    "            probs               = classifier.predict_proba(val_word_features)[:,1]\n",
    "            auc_roc             = roc_auc_score(y_val, probs)\n",
    "            auc_pr              = average_precision_score(y_val, probs)\n",
    "\n",
    "            \n",
    "            # print performance\n",
    "            print(f'---------------------------------------------')\n",
    "            print(f'FOLD {c}: AUC PR-C = {round(auc_pr, 3)}, AUC ROC = {round(auc_roc, 3)}')\n",
    "            print(f'---------------------------------------------')\n",
    "            print(f'')\n",
    "\n",
    "            auc.append(auc_pr)\n",
    "            roc.append(auc_roc)\n",
    "            c += 1\n",
    "\n",
    "# print performance\n",
    "print(f'-----------------------------------------------')\n",
    "print(f'CV average: AUC PR-C = {round(np.array(auc).mean(), 3)}, AUC ROC = {round(np.array(roc).mean(), 3)}')\n",
    "print(f'-----------------------------------------------')\n",
    "print(f'')"
   ]
  },
  {
   "cell_type": "code",
   "execution_count": 31,
   "metadata": {
    "colab": {
     "base_uri": "https://localhost:8080/",
     "height": 85
    },
    "colab_type": "code",
    "executionInfo": {
     "elapsed": 797939,
     "status": "ok",
     "timestamp": 1563198448941,
     "user": {
      "displayName": "Elizaveta",
      "photoUrl": "https://lh3.googleusercontent.com/-3-3kSLC4Mzw/AAAAAAAAAAI/AAAAAAAAABg/Usb9K3n3cRI/s64/photo.jpg",
      "userId": "01253993997636551956"
     },
     "user_tz": -120
    },
    "id": "2mU_hwEX73MZ",
    "outputId": "443a2b40-bf83-4aea-e0c8-a791cdc1e4e7"
   },
   "outputs": [
    {
     "name": "stdout",
     "output_type": "stream",
     "text": [
      "-----------------------------------------\n",
      "TEST: AUC PR-C = 0.8189, AUC ROC = 0.958\n",
      "-----------------------------------------\n",
      "\n"
     ]
    }
   ],
   "source": [
    "# TRAIN ON WHOLE DAATA AND PREDICT ON TEST\n",
    "word_vectorizer.fit(X)\n",
    "train_word_features  = word_vectorizer.transform(X)\n",
    "test_word_features   = word_vectorizer.transform(X_test)\n",
    "classifier           = lgb.LGBMClassifier(**lgb_params) \n",
    "classifier.fit(train_word_features, y)\n",
    "probs                = classifier.predict_proba(test_word_features)[:,1]\n",
    "auc_roc              = roc_auc_score(y_test, probs)\n",
    "auc_pr               = average_precision_score(y_test, probs)\n",
    "\n",
    "# print performance\n",
    "print(f'-----------------------------------------')\n",
    "print(f'TEST: AUC PR-C = {round(auc_pr, 3)}, AUC ROC = {round(auc_roc, 3)}')\n",
    "print(f'-----------------------------------------')\n",
    "print(f'')"
   ]
  },
  {
   "cell_type": "code",
   "execution_count": null,
   "metadata": {
    "colab": {},
    "colab_type": "code",
    "id": "wgT2TCaf73Me"
   },
   "outputs": [],
   "source": []
  }
 ],
 "metadata": {
  "colab": {
   "collapsed_sections": [],
   "name": "code_2_TML_DL.ipynb",
   "provenance": [],
   "version": "0.3.2"
  },
  "kernelspec": {
   "display_name": "Python 3",
   "language": "python",
   "name": "python3"
  },
  "language_info": {
   "codemirror_mode": {
    "name": "ipython",
    "version": 3
   },
   "file_extension": ".py",
   "mimetype": "text/x-python",
   "name": "python",
   "nbconvert_exporter": "python",
   "pygments_lexer": "ipython3",
   "version": "3.6.8"
  }
 },
 "nbformat": 4,
 "nbformat_minor": 2
}
